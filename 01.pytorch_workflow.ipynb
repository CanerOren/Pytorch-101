{
 "cells": [
  {
   "cell_type": "markdown",
   "metadata": {},
   "source": [
    "# PyTorch Workkflow\n",
    "\n",
    "Let's explore a an example PyTorch ent-to-end workflow\n",
    "\n",
    "Resources:\n",
    "* Ground truth notebook - https://github.com/mrdbourke/pytorch-deep-learning/blob/main/01_pytorch_workflow.ipynb\n",
    "* Book version of notebook - https://www.learnpytorch.io/01_pytorch_workflow/"
   ]
  },
  {
   "cell_type": "code",
   "execution_count": 32,
   "metadata": {},
   "outputs": [
    {
     "data": {
      "text/plain": [
       "'2.4.0'"
      ]
     },
     "execution_count": 32,
     "metadata": {},
     "output_type": "execute_result"
    }
   ],
   "source": [
    "import torch\n",
    "import numpy as np\n",
    "import pandas as pd \n",
    "import matplotlib.pyplot as plt \n",
    "from torch import nn  # nn contains all of PyTorch's building blocks for neural networks\n",
    "from pathlib import Path\n",
    "# Check PyTorch Version\n",
    "import os\n",
    "torch.__version__"
   ]
  },
  {
   "cell_type": "code",
   "execution_count": 2,
   "metadata": {},
   "outputs": [
    {
     "data": {
      "text/plain": [
       "{1: 'data (prepare and load)',\n",
       " 2: 'build model',\n",
       " 3: 'fitting the model to data (training)',\n",
       " 4: 'making predictions and evaluating a model (inference)',\n",
       " 5: 'saving and loading a model',\n",
       " 6: 'putting al together'}"
      ]
     },
     "execution_count": 2,
     "metadata": {},
     "output_type": "execute_result"
    }
   ],
   "source": [
    "what_were_covering = {1: \"data (prepare and load)\",\n",
    "                      2: \"build model\",\n",
    "                      3: \"fitting the model to data (training)\",\n",
    "                      4: \"making predictions and evaluating a model (inference)\",\n",
    "                      5: \"saving and loading a model\",\n",
    "                      6: \"putting al together\"}\n",
    "what_were_covering"
   ]
  },
  {
   "cell_type": "markdown",
   "metadata": {},
   "source": [
    "## Data (preparing and loading)\n",
    "\n",
    "Data can be almost anything... in machine learning.\n",
    "\n",
    "* Excel spreadsheet\n",
    "* Images of any kind\n",
    "* Videos (YouTube has lots of data...)\n",
    "* Audio like songs or podcasts\n",
    "* DNA \n",
    "* Text\n",
    "\n",
    "\n",
    "Machine learning is a game of two parts:\n",
    "1. Get data into a numerical representation.\n",
    "2. Build a model to learn patterns in that numerical representation.\n",
    "\n",
    "To showcase this, let's create some *known* data using the linear regression formula. \n",
    "\n",
    "We'll use a linear regression formula to make a staright line with *known* **parameters**."
   ]
  },
  {
   "cell_type": "code",
   "execution_count": 2,
   "metadata": {},
   "outputs": [
    {
     "data": {
      "text/plain": [
       "(tensor([[0.0000],\n",
       "         [0.0200],\n",
       "         [0.0400],\n",
       "         [0.0600],\n",
       "         [0.0800],\n",
       "         [0.1000],\n",
       "         [0.1200],\n",
       "         [0.1400],\n",
       "         [0.1600],\n",
       "         [0.1800]]),\n",
       " tensor([[0.3000],\n",
       "         [0.3140],\n",
       "         [0.3280],\n",
       "         [0.3420],\n",
       "         [0.3560],\n",
       "         [0.3700],\n",
       "         [0.3840],\n",
       "         [0.3980],\n",
       "         [0.4120],\n",
       "         [0.4260]]),\n",
       " 50,\n",
       " 50)"
      ]
     },
     "execution_count": 2,
     "metadata": {},
     "output_type": "execute_result"
    }
   ],
   "source": [
    "# Create *known* parameters\n",
    "\n",
    "weight= 0.7\n",
    "bias = 0.3\n",
    "\n",
    "# Create\n",
    "\n",
    "start = 0                                                                                \n",
    "end =1\n",
    "step= 0.02\n",
    "X = torch.arange(start,end,step).unsqueeze(dim=1)\n",
    "y = weight * X + bias              \n",
    "\n",
    "X[:10] , y[:10] , len(X) , len(y)"
   ]
  },
  {
   "cell_type": "code",
   "execution_count": 3,
   "metadata": {},
   "outputs": [
    {
     "data": {
      "text/plain": [
       "(50, 50)"
      ]
     },
     "execution_count": 3,
     "metadata": {},
     "output_type": "execute_result"
    }
   ],
   "source": [
    "len(X),len(y)"
   ]
  },
  {
   "cell_type": "markdown",
   "metadata": {},
   "source": [
    "### Splitting data into training and test sets (one of the most important concepts in machine learning in general)\n",
    "\n",
    "Let's create a training and test set with our data.\n"
   ]
  },
  {
   "cell_type": "code",
   "execution_count": 4,
   "metadata": {},
   "outputs": [
    {
     "data": {
      "text/plain": [
       "(40, 40, 10, 10)"
      ]
     },
     "execution_count": 4,
     "metadata": {},
     "output_type": "execute_result"
    }
   ],
   "source": [
    "# Create a train/test split\n",
    "train_split = int(0.8 *len(X))\n",
    "X_train, y_train = X[ :train_split], y[ :train_split]\n",
    "X_test, y_test = X[train_split:], y[train_split:]\n",
    "\n",
    "len(X_train),len(y_train),len(X_test),len(y_test)"
   ]
  },
  {
   "cell_type": "markdown",
   "metadata": {},
   "source": [
    "How might we better visualize our data?\n",
    "\n",
    "This is ehere the data explorer's motto comes in!\n",
    "\n",
    "\"Visualize, visualize, visualize!\""
   ]
  },
  {
   "cell_type": "code",
   "execution_count": 7,
   "metadata": {},
   "outputs": [],
   "source": [
    "def plot_predictions(train_data=X_train,train_labels= y_train,test_data = X_test,test_labels= y_test,predictions= None):\n",
    "\n",
    "    \"\"\"\n",
    "    Plots traini0ng data, test data and compares predictions\n",
    "    \"\"\"\n",
    "\n",
    "    plt.figure(figsize = (10,7))\n",
    "\n",
    "    #Plot training data in blue\n",
    "    plt.scatter(train_data, train_labels,c = 'b', s=4, label= 'Training Data')\n",
    "\n",
    "    # Plot test data in green\n",
    "    plt.scatter(test_data,test_labels,c= 'g', s=4,label='Testing Data')\n",
    "\n",
    "    # Are there predictions?\n",
    "    if predictions is not None:\n",
    "        # Plot the predictions if they exist\n",
    "        plt.scatter(test_data, predictions, c=\"r\", s=4, label = \"Predictions\")\n",
    "\n",
    "    # Show the legend \n",
    "    plt.legend(prop={\"size\":14});\n",
    "\n"
   ]
  },
  {
   "cell_type": "code",
   "execution_count": 6,
   "metadata": {},
   "outputs": [
    {
     "data": {
      "image/png": "[encoded data removed]",
      "text/plain": [
       "<Figure size 1000x700 with 1 Axes>"
      ]
     },
     "metadata": {},
     "output_type": "display_data"
    }
   ],
   "source": [
    "plot_predictions();"
   ]
  },
  {
   "cell_type": "code",
   "execution_count": 8,
   "metadata": {},
   "outputs": [],
   "source": [
    "# Create linear regression model class\n",
    "\n",
    "class LinearRregressionModel(nn.Module): # <- almost everything in PyTorch inherhits from nn.Module\n",
    "    def __init__(self):\n",
    "        super().__init__()\n",
    "        self.weights = nn.Parameter(torch.randn(1,requires_grad=True,dtype=torch.float))\n",
    "        self.bias = nn.Parameter(torch.randn(1,requires_grad=True,dtype=torch.float))      \n",
    "\n",
    "    #Forward method to define the computation in the model\n",
    "    def forward(self,x:torch.Tensor) ->torch.Tensor: # <- \"x\" is the input data\n",
    "        return self.weights * x + self.bias # this is the linear regression formula"
   ]
  },
  {
   "cell_type": "markdown",
   "metadata": {},
   "source": [
    "### PyTorch model building essentials\n",
    "\n",
    "* torch.nn - contains all of the buildings for computational graphs (a neural network can be considered a computational graph)\n",
    "* torch.nn.Parameter - what parameters should our model try and learn, often a PyTorch layer from torch.nn will set these for us \n",
    "* torch.nn.Module - The base class for all neural network modules, if you subclass it, you should overwrite forward()\n",
    "* torch.optim - this where the optimizers in PyTorch live, the will help with gradient descent \n",
    "* dev forward() - All nn.Module subclasses require you to overwrite forward(), this method defines what happens in the forward computation\n",
    "\n",
    "https://pytorch.org/tutorials/beginner/ptcheat.html"
   ]
  },
  {
   "cell_type": "code",
   "execution_count": 9,
   "metadata": {},
   "outputs": [
    {
     "data": {
      "text/plain": [
       "tensor([0.3367])"
      ]
     },
     "execution_count": 9,
     "metadata": {},
     "output_type": "execute_result"
    }
   ],
   "source": [
    "torch.manual_seed(42 )\n",
    "torch.randn(1)"
   ]
  },
  {
   "cell_type": "markdown",
   "metadata": {},
   "source": [
    "### Checking the contents of our PyTorch model\n",
    "\n",
    "Now we've created a model, let's see what's inside...\n",
    "\n",
    "So we can check our model parameters or what's inside our model using `.parameters()`.  "
   ]
  },
  {
   "cell_type": "code",
   "execution_count": 10,
   "metadata": {},
   "outputs": [
    {
     "data": {
      "text/plain": [
       "[Parameter containing:\n",
       " tensor([0.3367], requires_grad=True),\n",
       " Parameter containing:\n",
       " tensor([0.1288], requires_grad=True)]"
      ]
     },
     "execution_count": 10,
     "metadata": {},
     "output_type": "execute_result"
    }
   ],
   "source": [
    "# Create a random seed\n",
    "torch.manual_seed(42)\n",
    "\n",
    "# Create an instance of the model (this a subclass of nn.Module)\n",
    "model_0 = LinearRregressionModel()\n",
    "\n",
    "# Check out the paramters.\n",
    "list(model_0.parameters())"
   ]
  },
  {
   "cell_type": "code",
   "execution_count": 11,
   "metadata": {},
   "outputs": [
    {
     "data": {
      "text/plain": [
       "OrderedDict([('weights', tensor([0.3367])), ('bias', tensor([0.1288]))])"
      ]
     },
     "execution_count": 11,
     "metadata": {},
     "output_type": "execute_result"
    }
   ],
   "source": [
    "# List named parameters\n",
    "model_0.state_dict()"
   ]
  },
  {
   "cell_type": "markdown",
   "metadata": {},
   "source": [
    "### Making prediction using `torch.inference_mode()`\n",
    "\n",
    "\n",
    "To check our model's predictive power, let's see hgow well it predicts `y_test` based on `X_test`.\n",
    "\n",
    "When we pass data through our model, it's going to run it through `forward()` method. \n",
    "\n",
    "https://twitter.com/PyTorch/status/1437838231505096708 "
   ]
  },
  {
   "cell_type": "code",
   "execution_count": 12,
   "metadata": {},
   "outputs": [
    {
     "data": {
      "text/plain": [
       "(tensor([[0.8000],\n",
       "         [0.8200],\n",
       "         [0.8400],\n",
       "         [0.8600],\n",
       "         [0.8800],\n",
       "         [0.9000],\n",
       "         [0.9200],\n",
       "         [0.9400],\n",
       "         [0.9600],\n",
       "         [0.9800]]),\n",
       " tensor([[0.8600],\n",
       "         [0.8740],\n",
       "         [0.8880],\n",
       "         [0.9020],\n",
       "         [0.9160],\n",
       "         [0.9300],\n",
       "         [0.9440],\n",
       "         [0.9580],\n",
       "         [0.9720],\n",
       "         [0.9860]]))"
      ]
     },
     "execution_count": 12,
     "metadata": {},
     "output_type": "execute_result"
    }
   ],
   "source": [
    "X_test, y_test"
   ]
  },
  {
   "cell_type": "code",
   "execution_count": 13,
   "metadata": {},
   "outputs": [
    {
     "data": {
      "text/plain": [
       "tensor([[0.3982],\n",
       "        [0.4049],\n",
       "        [0.4116],\n",
       "        [0.4184],\n",
       "        [0.4251],\n",
       "        [0.4318],\n",
       "        [0.4386],\n",
       "        [0.4453],\n",
       "        [0.4520],\n",
       "        [0.4588]], grad_fn=<AddBackward0>)"
      ]
     },
     "execution_count": 13,
     "metadata": {},
     "output_type": "execute_result"
    }
   ],
   "source": [
    "y_preds = model_0(X_test)\n",
    "y_preds"
   ]
  },
  {
   "cell_type": "code",
   "execution_count": 14,
   "metadata": {},
   "outputs": [
    {
     "data": {
      "text/plain": [
       "tensor([[0.3982],\n",
       "        [0.4049],\n",
       "        [0.4116],\n",
       "        [0.4184],\n",
       "        [0.4251],\n",
       "        [0.4318],\n",
       "        [0.4386],\n",
       "        [0.4453],\n",
       "        [0.4520],\n",
       "        [0.4588]])"
      ]
     },
     "execution_count": 14,
     "metadata": {},
     "output_type": "execute_result"
    }
   ],
   "source": [
    "# Make predictions with model\n",
    "with torch.inference_mode():\n",
    "    y_preds = model_0(X_test)\n",
    "\"\"\"\n",
    "# You can also do something similar with torch.no_grad(), however, infrence_mode() is preferred\n",
    "with torch.no_grad():\n",
    "    y_preds = model_0(X_test)\n",
    "\"\"\"\n",
    "y_preds "
   ]
  },
  {
   "cell_type": "code",
   "execution_count": 15,
   "metadata": {},
   "outputs": [
    {
     "data": {
      "text/plain": [
       "tensor([[0.8600],\n",
       "        [0.8740],\n",
       "        [0.8880],\n",
       "        [0.9020],\n",
       "        [0.9160],\n",
       "        [0.9300],\n",
       "        [0.9440],\n",
       "        [0.9580],\n",
       "        [0.9720],\n",
       "        [0.9860]])"
      ]
     },
     "execution_count": 15,
     "metadata": {},
     "output_type": "execute_result"
    }
   ],
   "source": [
    "y_test"
   ]
  },
  {
   "cell_type": "code",
   "execution_count": 16,
   "metadata": {},
   "outputs": [
    {
     "data": {
      "image/png": "[encoded data removed]",
      "text/plain": [
       "<Figure size 1000x700 with 1 Axes>"
      ]
     },
     "metadata": {},
     "output_type": "display_data"
    }
   ],
   "source": [
    "plot_predictions(predictions=y_preds)"
   ]
  },
  {
   "cell_type": "markdown",
   "metadata": {},
   "source": [
    "## 3. Training Model\n",
    "\n",
    "The whole idea of training is for a model to move from some *unknown* parameters (these may be random) to some *knwon* parameters.\n",
    "\n",
    "Or in other words from a poor representation of the data to a better representation of the data.\n",
    "\n",
    "One way to measure how poor or how wrong your models predictions are is to use a loss function\n",
    "\n",
    "* Note: Loss function may also be called cost function or criterion in different areas. For our case,  we're going to refer to it as a loss function.\n",
    "\n",
    "Thing we need to train: \n",
    "\n",
    "* **Loss function:** A function to measure how wrong your model's predictions are to the ideal outputs, lower is better - https://pytorch.org/docs/stable/nn.html#loss-functions\n",
    "* **Optimizer:** Takes into account the loss of a model and adjusts the model's parameters (e.g. weight & bias in our case) to improve loss function. - https://pytorch.org/docs/stable/optim.html#module-torch.optim\n",
    "    * Inside the optimizer you'll often have to set two parameters:\n",
    "    \n",
    "        * `params` - the model parameters you'd like to optimize, for example `params=model_0.parameters()`\n",
    "        * `lr`(learning rate) - the learning rate is a hyperparameter that defines how big/small the optimizer changes the parameters with each step(a small `lr` results in small changes, a large `lr` results in large changes)\n",
    "\n",
    "\n",
    "And specifically for PyTorch, we need \n",
    "* A training loop\n",
    "* A testing loop "
   ]
  },
  {
   "cell_type": "code",
   "execution_count": 17,
   "metadata": {},
   "outputs": [
    {
     "data": {
      "text/plain": [
       "[Parameter containing:\n",
       " tensor([0.3367], requires_grad=True),\n",
       " Parameter containing:\n",
       " tensor([0.1288], requires_grad=True)]"
      ]
     },
     "execution_count": 17,
     "metadata": {},
     "output_type": "execute_result"
    }
   ],
   "source": [
    "list(model_0.parameters())"
   ]
  },
  {
   "cell_type": "code",
   "execution_count": 18,
   "metadata": {},
   "outputs": [
    {
     "data": {
      "text/plain": [
       "OrderedDict([('weights', tensor([0.3367])), ('bias', tensor([0.1288]))])"
      ]
     },
     "execution_count": 18,
     "metadata": {},
     "output_type": "execute_result"
    }
   ],
   "source": [
    "# Check out our model's parameters (a parameter is a value that the model sets itself)\n",
    "model_0.state_dict()"
   ]
  },
  {
   "cell_type": "code",
   "execution_count": 19,
   "metadata": {},
   "outputs": [],
   "source": [
    "# Set up a loss function\n",
    "loss_fn = nn.L1Loss()\n",
    "\n",
    "# Set up an optimizer (stochastic gradient descent)\n",
    "optimizer = torch.optim.SGD(params=model_0.parameters(),lr=0.01)  # lr = learning rate = possibly the most important hyperparameter you can set"
   ]
  },
  {
   "cell_type": "markdown",
   "metadata": {},
   "source": [
    "**Q:** Which loss function and optimizer should I use?\n",
    "\n",
    "**A:** This will be rpoblem specific. But with experience, you'll get an idea of what works and what doesn't with your particular problem set.\n",
    "\n",
    "For example, for regression problem (like ours), a loss function of `nn.L1Loss()` and an optimizer like `torch.optim.SGD()` will suffice.\n",
    "\n",
    "But for a classification problem like classifying whether a photo is of a dog or a cat, you'll likely want to use a loss function of `nn.BCELoss()` (binary cross entropy loss)."
   ]
  },
  {
   "cell_type": "markdown",
   "metadata": {},
   "source": [
    "### Building a training loop (and a testing loop) in PyTorch\n",
    "\n",
    "A couple of things we need in a training loop:\n",
    "0. Loop through the data\n",
    "1. Forward pass (this involves data moving through our model's `forward()` functions) to make predictions on data - also called forward propagation\n",
    "2. Calculate the loss (compare forward pass predictions to ground truth labels)\n",
    "3. Optimizer zero grad\n",
    "4. Loss backward - move backwards through the network to calculate gradients of each of the parameters of our model with respect to the loss (**backpropagation** - https://www.youtube.com/watch?v=Ilg3gGewQ5U)\n",
    "5. Optimizer step - use the optimizer to adjust our model's parameters to try and improve the loss (**gradient descent**-https://www.youtube.com/watch?v=IHZwWFHWa-w)\n"
   ]
  },
  {
   "cell_type": "code",
   "execution_count": 20,
   "metadata": {},
   "outputs": [
    {
     "name": "stdout",
     "output_type": "stream",
     "text": [
      "Loss: 0.31288138031959534\n",
      "Epoch: 0 | Loss: 0.31288138031959534 | Test loss: 0.48106518387794495\n",
      "OrderedDict({'weights': tensor([0.3406]), 'bias': tensor([0.1388])})\n",
      "Loss: 0.3013603389263153\n",
      "Epoch: 1 | Loss: 0.3013603389263153 | Test loss: 0.4675942063331604\n",
      "OrderedDict({'weights': tensor([0.3445]), 'bias': tensor([0.1488])})\n",
      "Loss: 0.28983935713768005\n",
      "Epoch: 2 | Loss: 0.28983935713768005 | Test loss: 0.4541231691837311\n",
      "OrderedDict({'weights': tensor([0.3484]), 'bias': tensor([0.1588])})\n",
      "Loss: 0.2783183455467224\n",
      "Epoch: 3 | Loss: 0.2783183455467224 | Test loss: 0.44065219163894653\n",
      "OrderedDict({'weights': tensor([0.3523]), 'bias': tensor([0.1688])})\n",
      "Loss: 0.26679736375808716\n",
      "Epoch: 4 | Loss: 0.26679736375808716 | Test loss: 0.4271811842918396\n",
      "OrderedDict({'weights': tensor([0.3562]), 'bias': tensor([0.1788])})\n",
      "Loss: 0.2552763521671295\n",
      "Epoch: 5 | Loss: 0.2552763521671295 | Test loss: 0.41371020674705505\n",
      "OrderedDict({'weights': tensor([0.3601]), 'bias': tensor([0.1888])})\n",
      "Loss: 0.24375534057617188\n",
      "Epoch: 6 | Loss: 0.24375534057617188 | Test loss: 0.40023916959762573\n",
      "OrderedDict({'weights': tensor([0.3640]), 'bias': tensor([0.1988])})\n",
      "Loss: 0.23223432898521423\n",
      "Epoch: 7 | Loss: 0.23223432898521423 | Test loss: 0.3867681920528412\n",
      "OrderedDict({'weights': tensor([0.3679]), 'bias': tensor([0.2088])})\n",
      "Loss: 0.22071333229541779\n",
      "Epoch: 8 | Loss: 0.22071333229541779 | Test loss: 0.37329721450805664\n",
      "OrderedDict({'weights': tensor([0.3718]), 'bias': tensor([0.2188])})\n",
      "Loss: 0.20919232070446014\n",
      "Epoch: 9 | Loss: 0.20919232070446014 | Test loss: 0.3598262071609497\n",
      "OrderedDict({'weights': tensor([0.3757]), 'bias': tensor([0.2288])})\n",
      "Loss: 0.1976713240146637\n",
      "Epoch: 10 | Loss: 0.1976713240146637 | Test loss: 0.3463551998138428\n",
      "OrderedDict({'weights': tensor([0.3796]), 'bias': tensor([0.2388])})\n",
      "Loss: 0.18615034222602844\n",
      "Epoch: 11 | Loss: 0.18615034222602844 | Test loss: 0.3328842222690582\n",
      "OrderedDict({'weights': tensor([0.3835]), 'bias': tensor([0.2488])})\n",
      "Loss: 0.1746293306350708\n",
      "Epoch: 12 | Loss: 0.1746293306350708 | Test loss: 0.3194132149219513\n",
      "OrderedDict({'weights': tensor([0.3874]), 'bias': tensor([0.2588])})\n",
      "Loss: 0.16310831904411316\n",
      "Epoch: 13 | Loss: 0.16310831904411316 | Test loss: 0.30594223737716675\n",
      "OrderedDict({'weights': tensor([0.3913]), 'bias': tensor([0.2688])})\n",
      "Loss: 0.1515873372554779\n",
      "Epoch: 14 | Loss: 0.1515873372554779 | Test loss: 0.2924712300300598\n",
      "OrderedDict({'weights': tensor([0.3952]), 'bias': tensor([0.2788])})\n",
      "Loss: 0.14006635546684265\n",
      "Epoch: 15 | Loss: 0.14006635546684265 | Test loss: 0.27900025248527527\n",
      "OrderedDict({'weights': tensor([0.3991]), 'bias': tensor([0.2888])})\n",
      "Loss: 0.1285453587770462\n",
      "Epoch: 16 | Loss: 0.1285453587770462 | Test loss: 0.2655292749404907\n",
      "OrderedDict({'weights': tensor([0.4030]), 'bias': tensor([0.2988])})\n",
      "Loss: 0.11702437698841095\n",
      "Epoch: 17 | Loss: 0.11702437698841095 | Test loss: 0.2520582973957062\n",
      "OrderedDict({'weights': tensor([0.4069]), 'bias': tensor([0.3088])})\n",
      "Loss: 0.1060912236571312\n",
      "Epoch: 18 | Loss: 0.1060912236571312 | Test loss: 0.2395961582660675\n",
      "OrderedDict({'weights': tensor([0.4108]), 'bias': tensor([0.3178])})\n",
      "Loss: 0.09681284427642822\n",
      "Epoch: 19 | Loss: 0.09681284427642822 | Test loss: 0.22817862033843994\n",
      "OrderedDict({'weights': tensor([0.4146]), 'bias': tensor([0.3258])})\n",
      "Loss: 0.08908725529909134\n",
      "Epoch: 20 | Loss: 0.08908725529909134 | Test loss: 0.21729660034179688\n",
      "OrderedDict({'weights': tensor([0.4184]), 'bias': tensor([0.3333])})\n",
      "Loss: 0.08227583020925522\n",
      "Epoch: 21 | Loss: 0.08227583020925522 | Test loss: 0.2069590985774994\n",
      "OrderedDict({'weights': tensor([0.4222]), 'bias': tensor([0.3403])})\n",
      "Loss: 0.07638873159885406\n",
      "Epoch: 22 | Loss: 0.07638873159885406 | Test loss: 0.19773726165294647\n",
      "OrderedDict({'weights': tensor([0.4258]), 'bias': tensor([0.3463])})\n",
      "Loss: 0.07160007208585739\n",
      "Epoch: 23 | Loss: 0.07160007208585739 | Test loss: 0.1890866756439209\n",
      "OrderedDict({'weights': tensor([0.4293]), 'bias': tensor([0.3518])})\n",
      "Loss: 0.06747635453939438\n",
      "Epoch: 24 | Loss: 0.06747635453939438 | Test loss: 0.18101617693901062\n",
      "OrderedDict({'weights': tensor([0.4328]), 'bias': tensor([0.3568])})\n",
      "Loss: 0.06395438313484192\n",
      "Epoch: 25 | Loss: 0.06395438313484192 | Test loss: 0.17353470623493195\n",
      "OrderedDict({'weights': tensor([0.4361]), 'bias': tensor([0.3613])})\n",
      "Loss: 0.06097004935145378\n",
      "Epoch: 26 | Loss: 0.06097004935145378 | Test loss: 0.16665108501911163\n",
      "OrderedDict({'weights': tensor([0.4394]), 'bias': tensor([0.3653])})\n",
      "Loss: 0.05845819041132927\n",
      "Epoch: 27 | Loss: 0.05845819041132927 | Test loss: 0.16037428379058838\n",
      "OrderedDict({'weights': tensor([0.4425]), 'bias': tensor([0.3688])})\n",
      "Loss: 0.05635259300470352\n",
      "Epoch: 28 | Loss: 0.05635259300470352 | Test loss: 0.15471318364143372\n",
      "OrderedDict({'weights': tensor([0.4455]), 'bias': tensor([0.3718])})\n",
      "Loss: 0.0545857772231102\n",
      "Epoch: 29 | Loss: 0.0545857772231102 | Test loss: 0.14967669546604156\n",
      "OrderedDict({'weights': tensor([0.4483]), 'bias': tensor([0.3743])})\n",
      "Loss: 0.053148526698350906\n",
      "Epoch: 30 | Loss: 0.053148526698350906 | Test loss: 0.14464017748832703\n",
      "OrderedDict({'weights': tensor([0.4512]), 'bias': tensor([0.3768])})\n",
      "Loss: 0.05181945487856865\n",
      "Epoch: 31 | Loss: 0.05181945487856865 | Test loss: 0.14023718237876892\n",
      "OrderedDict({'weights': tensor([0.4539]), 'bias': tensor([0.3788])})\n",
      "Loss: 0.05069301277399063\n",
      "Epoch: 32 | Loss: 0.05069301277399063 | Test loss: 0.13647659122943878\n",
      "OrderedDict({'weights': tensor([0.4564]), 'bias': tensor([0.3803])})\n",
      "Loss: 0.0498228520154953\n",
      "Epoch: 33 | Loss: 0.0498228520154953 | Test loss: 0.13271598517894745\n",
      "OrderedDict({'weights': tensor([0.4590]), 'bias': tensor([0.3818])})\n",
      "Loss: 0.04895269125699997\n",
      "Epoch: 34 | Loss: 0.04895269125699997 | Test loss: 0.12895536422729492\n",
      "OrderedDict({'weights': tensor([0.4615]), 'bias': tensor([0.3833])})\n",
      "Loss: 0.04819351062178612\n",
      "Epoch: 35 | Loss: 0.04819351062178612 | Test loss: 0.12584610283374786\n",
      "OrderedDict({'weights': tensor([0.4639]), 'bias': tensor([0.3843])})\n",
      "Loss: 0.047531817108392715\n",
      "Epoch: 36 | Loss: 0.047531817108392715 | Test loss: 0.12273679673671722\n",
      "OrderedDict({'weights': tensor([0.4662]), 'bias': tensor([0.3853])})\n",
      "Loss: 0.04692792519927025\n",
      "Epoch: 37 | Loss: 0.04692792519927025 | Test loss: 0.1202877014875412\n",
      "OrderedDict({'weights': tensor([0.4684]), 'bias': tensor([0.3858])})\n",
      "Loss: 0.04642331600189209\n",
      "Epoch: 38 | Loss: 0.04642331600189209 | Test loss: 0.11783860623836517\n",
      "OrderedDict({'weights': tensor([0.4706]), 'bias': tensor([0.3863])})\n",
      "Loss: 0.04591871052980423\n",
      "Epoch: 39 | Loss: 0.04591871052980423 | Test loss: 0.11538954079151154\n",
      "OrderedDict({'weights': tensor([0.4728]), 'bias': tensor([0.3868])})\n",
      "Loss: 0.04543796554207802\n",
      "Epoch: 40 | Loss: 0.04543796554207802 | Test loss: 0.11360953003168106\n",
      "OrderedDict({'weights': tensor([0.4748]), 'bias': tensor([0.3868])})\n",
      "Loss: 0.04503796249628067\n",
      "Epoch: 41 | Loss: 0.04503796249628067 | Test loss: 0.11182951927185059\n",
      "OrderedDict({'weights': tensor([0.4768]), 'bias': tensor([0.3868])})\n",
      "Loss: 0.04463795945048332\n",
      "Epoch: 42 | Loss: 0.04463795945048332 | Test loss: 0.1100495308637619\n",
      "OrderedDict({'weights': tensor([0.4788]), 'bias': tensor([0.3868])})\n",
      "Loss: 0.04423796385526657\n",
      "Epoch: 43 | Loss: 0.04423796385526657 | Test loss: 0.10826952755451202\n",
      "OrderedDict({'weights': tensor([0.4808]), 'bias': tensor([0.3868])})\n",
      "Loss: 0.04383796453475952\n",
      "Epoch: 44 | Loss: 0.04383796453475952 | Test loss: 0.10648951679468155\n",
      "OrderedDict({'weights': tensor([0.4828]), 'bias': tensor([0.3868])})\n",
      "Loss: 0.04343796148896217\n",
      "Epoch: 45 | Loss: 0.04343796148896217 | Test loss: 0.10470950603485107\n",
      "OrderedDict({'weights': tensor([0.4848]), 'bias': tensor([0.3868])})\n",
      "Loss: 0.043074630200862885\n",
      "Epoch: 46 | Loss: 0.043074630200862885 | Test loss: 0.10360751301050186\n",
      "OrderedDict({'weights': tensor([0.4866]), 'bias': tensor([0.3863])})\n",
      "Loss: 0.04272563382983208\n",
      "Epoch: 47 | Loss: 0.04272563382983208 | Test loss: 0.10250549018383026\n",
      "OrderedDict({'weights': tensor([0.4884]), 'bias': tensor([0.3858])})\n",
      "Loss: 0.04237663000822067\n",
      "Epoch: 48 | Loss: 0.04237663000822067 | Test loss: 0.10140349715948105\n",
      "OrderedDict({'weights': tensor([0.4902]), 'bias': tensor([0.3853])})\n",
      "Loss: 0.04202762991189957\n",
      "Epoch: 49 | Loss: 0.04202762991189957 | Test loss: 0.10030148178339005\n",
      "OrderedDict({'weights': tensor([0.4920]), 'bias': tensor([0.3848])})\n",
      "Loss: 0.04167863354086876\n",
      "Epoch: 50 | Loss: 0.04167863354086876 | Test loss: 0.09919948130846024\n",
      "OrderedDict({'weights': tensor([0.4938]), 'bias': tensor([0.3843])})\n",
      "Loss: 0.04132963344454765\n",
      "Epoch: 51 | Loss: 0.04132963344454765 | Test loss: 0.09809747338294983\n",
      "OrderedDict({'weights': tensor([0.4956]), 'bias': tensor([0.3838])})\n",
      "Loss: 0.04098063334822655\n",
      "Epoch: 52 | Loss: 0.04098063334822655 | Test loss: 0.09699545800685883\n",
      "OrderedDict({'weights': tensor([0.4974]), 'bias': tensor([0.3833])})\n",
      "Loss: 0.04063162952661514\n",
      "Epoch: 53 | Loss: 0.04063162952661514 | Test loss: 0.09589345753192902\n",
      "OrderedDict({'weights': tensor([0.4992]), 'bias': tensor([0.3828])})\n",
      "Loss: 0.040282636880874634\n",
      "Epoch: 54 | Loss: 0.040282636880874634 | Test loss: 0.0947914719581604\n",
      "OrderedDict({'weights': tensor([0.5010]), 'bias': tensor([0.3823])})\n",
      "Loss: 0.039933640509843826\n",
      "Epoch: 55 | Loss: 0.039933640509843826 | Test loss: 0.09368947893381119\n",
      "OrderedDict({'weights': tensor([0.5028]), 'bias': tensor([0.3818])})\n",
      "Loss: 0.03958464413881302\n",
      "Epoch: 56 | Loss: 0.03958464413881302 | Test loss: 0.09258746355772018\n",
      "OrderedDict({'weights': tensor([0.5046]), 'bias': tensor([0.3813])})\n",
      "Loss: 0.03923564404249191\n",
      "Epoch: 57 | Loss: 0.03923564404249191 | Test loss: 0.09148545563220978\n",
      "OrderedDict({'weights': tensor([0.5064]), 'bias': tensor([0.3808])})\n",
      "Loss: 0.03888664394617081\n",
      "Epoch: 58 | Loss: 0.03888664394617081 | Test loss: 0.09038344770669937\n",
      "OrderedDict({'weights': tensor([0.5082]), 'bias': tensor([0.3803])})\n",
      "Loss: 0.0385376438498497\n",
      "Epoch: 59 | Loss: 0.0385376438498497 | Test loss: 0.08928143978118896\n",
      "OrderedDict({'weights': tensor([0.5100]), 'bias': tensor([0.3798])})\n",
      "Loss: 0.03818932920694351\n",
      "Epoch: 60 | Loss: 0.03818932920694351 | Test loss: 0.08886633068323135\n",
      "OrderedDict({'weights': tensor([0.5116]), 'bias': tensor([0.3788])})\n",
      "Loss: 0.03785243630409241\n",
      "Epoch: 61 | Loss: 0.03785243630409241 | Test loss: 0.08776430785655975\n",
      "OrderedDict({'weights': tensor([0.5134]), 'bias': tensor([0.3783])})\n",
      "Loss: 0.0375034399330616\n",
      "Epoch: 62 | Loss: 0.0375034399330616 | Test loss: 0.08666229248046875\n",
      "OrderedDict({'weights': tensor([0.5152]), 'bias': tensor([0.3778])})\n",
      "Loss: 0.037164121866226196\n",
      "Epoch: 63 | Loss: 0.037164121866226196 | Test loss: 0.08624717593193054\n",
      "OrderedDict({'weights': tensor([0.5168]), 'bias': tensor([0.3768])})\n",
      "Loss: 0.03681822493672371\n",
      "Epoch: 64 | Loss: 0.03681822493672371 | Test loss: 0.08514519035816193\n",
      "OrderedDict({'weights': tensor([0.5186]), 'bias': tensor([0.3763])})\n",
      "Loss: 0.03647511452436447\n",
      "Epoch: 65 | Loss: 0.03647511452436447 | Test loss: 0.08473004400730133\n",
      "OrderedDict({'weights': tensor([0.5202]), 'bias': tensor([0.3753])})\n",
      "Loss: 0.03613303601741791\n",
      "Epoch: 66 | Loss: 0.03613303601741791 | Test loss: 0.08362803608179092\n",
      "OrderedDict({'weights': tensor([0.5220]), 'bias': tensor([0.3748])})\n",
      "Loss: 0.03578609973192215\n",
      "Epoch: 67 | Loss: 0.03578609973192215 | Test loss: 0.08321291208267212\n",
      "OrderedDict({'weights': tensor([0.5236]), 'bias': tensor([0.3738])})\n",
      "Loss: 0.03544783592224121\n",
      "Epoch: 68 | Loss: 0.03544783592224121 | Test loss: 0.08211090415716171\n",
      "OrderedDict({'weights': tensor([0.5254]), 'bias': tensor([0.3733])})\n",
      "Loss: 0.035098835825920105\n",
      "Epoch: 69 | Loss: 0.035098835825920105 | Test loss: 0.0810088962316513\n",
      "OrderedDict({'weights': tensor([0.5272]), 'bias': tensor([0.3728])})\n",
      "Loss: 0.03476089984178543\n",
      "Epoch: 70 | Loss: 0.03476089984178543 | Test loss: 0.0805937647819519\n",
      "OrderedDict({'weights': tensor([0.5288]), 'bias': tensor([0.3718])})\n",
      "Loss: 0.03441363573074341\n",
      "Epoch: 71 | Loss: 0.03441363573074341 | Test loss: 0.0794917643070221\n",
      "OrderedDict({'weights': tensor([0.5306]), 'bias': tensor([0.3713])})\n",
      "Loss: 0.03407188132405281\n",
      "Epoch: 72 | Loss: 0.03407188132405281 | Test loss: 0.07907666265964508\n",
      "OrderedDict({'weights': tensor([0.5322]), 'bias': tensor([0.3703])})\n",
      "Loss: 0.03372843936085701\n",
      "Epoch: 73 | Loss: 0.03372843936085701 | Test loss: 0.07797462493181229\n",
      "OrderedDict({'weights': tensor([0.5340]), 'bias': tensor([0.3698])})\n",
      "Loss: 0.03338287025690079\n",
      "Epoch: 74 | Loss: 0.03338287025690079 | Test loss: 0.07755951583385468\n",
      "OrderedDict({'weights': tensor([0.5355]), 'bias': tensor([0.3688])})\n",
      "Loss: 0.033043231815099716\n",
      "Epoch: 75 | Loss: 0.033043231815099716 | Test loss: 0.07645749300718307\n",
      "OrderedDict({'weights': tensor([0.5373]), 'bias': tensor([0.3683])})\n",
      "Loss: 0.03269423171877861\n",
      "Epoch: 76 | Loss: 0.03269423171877861 | Test loss: 0.07535548508167267\n",
      "OrderedDict({'weights': tensor([0.5391]), 'bias': tensor([0.3678])})\n",
      "Loss: 0.032357655465602875\n",
      "Epoch: 77 | Loss: 0.032357655465602875 | Test loss: 0.07494036853313446\n",
      "OrderedDict({'weights': tensor([0.5407]), 'bias': tensor([0.3668])})\n",
      "Loss: 0.03200903534889221\n",
      "Epoch: 78 | Loss: 0.03200903534889221 | Test loss: 0.07383836805820465\n",
      "OrderedDict({'weights': tensor([0.5425]), 'bias': tensor([0.3663])})\n",
      "Loss: 0.03166864812374115\n",
      "Epoch: 79 | Loss: 0.03166864812374115 | Test loss: 0.07342323660850525\n",
      "OrderedDict({'weights': tensor([0.5441]), 'bias': tensor([0.3653])})\n",
      "Loss: 0.03132382780313492\n",
      "Epoch: 80 | Loss: 0.03132382780313492 | Test loss: 0.07232122868299484\n",
      "OrderedDict({'weights': tensor([0.5459]), 'bias': tensor([0.3648])})\n",
      "Loss: 0.030979642644524574\n",
      "Epoch: 81 | Loss: 0.030979642644524574 | Test loss: 0.07190609723329544\n",
      "OrderedDict({'weights': tensor([0.5475]), 'bias': tensor([0.3638])})\n",
      "Loss: 0.030638623982667923\n",
      "Epoch: 82 | Loss: 0.030638623982667923 | Test loss: 0.07080408930778503\n",
      "OrderedDict({'weights': tensor([0.5493]), 'bias': tensor([0.3633])})\n",
      "Loss: 0.0302906334400177\n",
      "Epoch: 83 | Loss: 0.0302906334400177 | Test loss: 0.07038896530866623\n",
      "OrderedDict({'weights': tensor([0.5509]), 'bias': tensor([0.3623])})\n",
      "Loss: 0.029953425750136375\n",
      "Epoch: 84 | Loss: 0.029953425750136375 | Test loss: 0.06928696483373642\n",
      "OrderedDict({'weights': tensor([0.5527]), 'bias': tensor([0.3618])})\n",
      "Loss: 0.02960442565381527\n",
      "Epoch: 85 | Loss: 0.02960442565381527 | Test loss: 0.06818496435880661\n",
      "OrderedDict({'weights': tensor([0.5545]), 'bias': tensor([0.3613])})\n",
      "Loss: 0.029265418648719788\n",
      "Epoch: 86 | Loss: 0.029265418648719788 | Test loss: 0.0677698403596878\n",
      "OrderedDict({'weights': tensor([0.5561]), 'bias': tensor([0.3603])})\n",
      "Loss: 0.028919223695993423\n",
      "Epoch: 87 | Loss: 0.028919223695993423 | Test loss: 0.0666678324341774\n",
      "OrderedDict({'weights': tensor([0.5579]), 'bias': tensor([0.3598])})\n",
      "Loss: 0.028576409444212914\n",
      "Epoch: 88 | Loss: 0.028576409444212914 | Test loss: 0.066252700984478\n",
      "OrderedDict({'weights': tensor([0.5595]), 'bias': tensor([0.3588])})\n",
      "Loss: 0.028234025463461876\n",
      "Epoch: 89 | Loss: 0.028234025463461876 | Test loss: 0.06515069305896759\n",
      "OrderedDict({'weights': tensor([0.5613]), 'bias': tensor([0.3583])})\n",
      "Loss: 0.02788739837706089\n",
      "Epoch: 90 | Loss: 0.02788739837706089 | Test loss: 0.06473556160926819\n",
      "OrderedDict({'weights': tensor([0.5629]), 'bias': tensor([0.3573])})\n",
      "Loss: 0.02754882536828518\n",
      "Epoch: 91 | Loss: 0.02754882536828518 | Test loss: 0.06363357603549957\n",
      "OrderedDict({'weights': tensor([0.5647]), 'bias': tensor([0.3568])})\n",
      "Loss: 0.027199819684028625\n",
      "Epoch: 92 | Loss: 0.027199819684028625 | Test loss: 0.06253156810998917\n",
      "OrderedDict({'weights': tensor([0.5665]), 'bias': tensor([0.3563])})\n",
      "Loss: 0.026862185448408127\n",
      "Epoch: 93 | Loss: 0.026862185448408127 | Test loss: 0.062116436660289764\n",
      "OrderedDict({'weights': tensor([0.5681]), 'bias': tensor([0.3553])})\n",
      "Loss: 0.02651461586356163\n",
      "Epoch: 94 | Loss: 0.02651461586356163 | Test loss: 0.061014432460069656\n",
      "OrderedDict({'weights': tensor([0.5699]), 'bias': tensor([0.3548])})\n",
      "Loss: 0.026173178106546402\n",
      "Epoch: 95 | Loss: 0.026173178106546402 | Test loss: 0.06059930846095085\n",
      "OrderedDict({'weights': tensor([0.5715]), 'bias': tensor([0.3538])})\n",
      "Loss: 0.025829419493675232\n",
      "Epoch: 96 | Loss: 0.025829419493675232 | Test loss: 0.05949730426073074\n",
      "OrderedDict({'weights': tensor([0.5733]), 'bias': tensor([0.3533])})\n",
      "Loss: 0.02548416517674923\n",
      "Epoch: 97 | Loss: 0.02548416517674923 | Test loss: 0.05908216908574104\n",
      "OrderedDict({'weights': tensor([0.5748]), 'bias': tensor([0.3523])})\n",
      "Loss: 0.025144213810563087\n",
      "Epoch: 98 | Loss: 0.025144213810563087 | Test loss: 0.057980168610811234\n",
      "OrderedDict({'weights': tensor([0.5766]), 'bias': tensor([0.3518])})\n",
      "Loss: 0.02479521557688713\n",
      "Epoch: 99 | Loss: 0.02479521557688713 | Test loss: 0.05687814950942993\n",
      "OrderedDict({'weights': tensor([0.5784]), 'bias': tensor([0.3513])})\n",
      "Loss: 0.024458957836031914\n",
      "Epoch: 100 | Loss: 0.024458957836031914 | Test loss: 0.05646304413676262\n",
      "OrderedDict({'weights': tensor([0.5800]), 'bias': tensor([0.3503])})\n",
      "Loss: 0.024110013619065285\n",
      "Epoch: 101 | Loss: 0.024110013619065285 | Test loss: 0.05536102131009102\n",
      "OrderedDict({'weights': tensor([0.5818]), 'bias': tensor([0.3498])})\n",
      "Loss: 0.02376994863152504\n",
      "Epoch: 102 | Loss: 0.02376994863152504 | Test loss: 0.05494590476155281\n",
      "OrderedDict({'weights': tensor([0.5834]), 'bias': tensor([0.3488])})\n",
      "Loss: 0.02342480979859829\n",
      "Epoch: 103 | Loss: 0.02342480979859829 | Test loss: 0.05384388566017151\n",
      "OrderedDict({'weights': tensor([0.5852]), 'bias': tensor([0.3483])})\n",
      "Loss: 0.023080935701727867\n",
      "Epoch: 104 | Loss: 0.023080935701727867 | Test loss: 0.0534287691116333\n",
      "OrderedDict({'weights': tensor([0.5868]), 'bias': tensor([0.3473])})\n",
      "Loss: 0.022739607840776443\n",
      "Epoch: 105 | Loss: 0.022739607840776443 | Test loss: 0.052326757460832596\n",
      "OrderedDict({'weights': tensor([0.5886]), 'bias': tensor([0.3468])})\n",
      "Loss: 0.022391926497220993\n",
      "Epoch: 106 | Loss: 0.022391926497220993 | Test loss: 0.05191164091229439\n",
      "OrderedDict({'weights': tensor([0.5902]), 'bias': tensor([0.3458])})\n",
      "Loss: 0.022054409608244896\n",
      "Epoch: 107 | Loss: 0.022054409608244896 | Test loss: 0.05080962926149368\n",
      "OrderedDict({'weights': tensor([0.5920]), 'bias': tensor([0.3453])})\n",
      "Loss: 0.02170540764927864\n",
      "Epoch: 108 | Loss: 0.02170540764927864 | Test loss: 0.049707621335983276\n",
      "OrderedDict({'weights': tensor([0.5938]), 'bias': tensor([0.3448])})\n",
      "Loss: 0.021366719156503677\n",
      "Epoch: 109 | Loss: 0.021366719156503677 | Test loss: 0.04929249361157417\n",
      "OrderedDict({'weights': tensor([0.5954]), 'bias': tensor([0.3438])})\n",
      "Loss: 0.021020207554101944\n",
      "Epoch: 110 | Loss: 0.021020207554101944 | Test loss: 0.04819049686193466\n",
      "OrderedDict({'weights': tensor([0.5972]), 'bias': tensor([0.3433])})\n",
      "Loss: 0.020677709951996803\n",
      "Epoch: 111 | Loss: 0.020677709951996803 | Test loss: 0.04777535796165466\n",
      "OrderedDict({'weights': tensor([0.5988]), 'bias': tensor([0.3423])})\n",
      "Loss: 0.02033500373363495\n",
      "Epoch: 112 | Loss: 0.02033500373363495 | Test loss: 0.046673357486724854\n",
      "OrderedDict({'weights': tensor([0.6006]), 'bias': tensor([0.3418])})\n",
      "Loss: 0.01998869702219963\n",
      "Epoch: 113 | Loss: 0.01998869702219963 | Test loss: 0.04625822976231575\n",
      "OrderedDict({'weights': tensor([0.6022]), 'bias': tensor([0.3408])})\n",
      "Loss: 0.019649803638458252\n",
      "Epoch: 114 | Loss: 0.019649803638458252 | Test loss: 0.045156221836805344\n",
      "OrderedDict({'weights': tensor([0.6040]), 'bias': tensor([0.3403])})\n",
      "Loss: 0.019300809130072594\n",
      "Epoch: 115 | Loss: 0.019300809130072594 | Test loss: 0.04405422881245613\n",
      "OrderedDict({'weights': tensor([0.6058]), 'bias': tensor([0.3398])})\n",
      "Loss: 0.018963487818837166\n",
      "Epoch: 116 | Loss: 0.018963487818837166 | Test loss: 0.04363910108804703\n",
      "OrderedDict({'weights': tensor([0.6074]), 'bias': tensor([0.3388])})\n",
      "Loss: 0.01861560344696045\n",
      "Epoch: 117 | Loss: 0.01861560344696045 | Test loss: 0.04253707453608513\n",
      "OrderedDict({'weights': tensor([0.6092]), 'bias': tensor([0.3383])})\n",
      "Loss: 0.018274478614330292\n",
      "Epoch: 118 | Loss: 0.018274478614330292 | Test loss: 0.042121969163417816\n",
      "OrderedDict({'weights': tensor([0.6108]), 'bias': tensor([0.3373])})\n",
      "Loss: 0.017930403351783752\n",
      "Epoch: 119 | Loss: 0.017930403351783752 | Test loss: 0.04101995751261711\n",
      "OrderedDict({'weights': tensor([0.6126]), 'bias': tensor([0.3368])})\n",
      "Loss: 0.01758546568453312\n",
      "Epoch: 120 | Loss: 0.01758546568453312 | Test loss: 0.04060482233762741\n",
      "OrderedDict({'weights': tensor([0.6141]), 'bias': tensor([0.3358])})\n",
      "Loss: 0.017245199531316757\n",
      "Epoch: 121 | Loss: 0.017245199531316757 | Test loss: 0.0395028181374073\n",
      "OrderedDict({'weights': tensor([0.6159]), 'bias': tensor([0.3353])})\n",
      "Loss: 0.016896454617381096\n",
      "Epoch: 122 | Loss: 0.016896454617381096 | Test loss: 0.0390876941382885\n",
      "OrderedDict({'weights': tensor([0.6175]), 'bias': tensor([0.3343])})\n",
      "Loss: 0.01656000316143036\n",
      "Epoch: 123 | Loss: 0.01656000316143036 | Test loss: 0.037985701113939285\n",
      "OrderedDict({'weights': tensor([0.6193]), 'bias': tensor([0.3338])})\n",
      "Loss: 0.016210997477173805\n",
      "Epoch: 124 | Loss: 0.016210997477173805 | Test loss: 0.03688368946313858\n",
      "OrderedDict({'weights': tensor([0.6211]), 'bias': tensor([0.3333])})\n",
      "Loss: 0.01587124727666378\n",
      "Epoch: 125 | Loss: 0.01587124727666378 | Test loss: 0.036468543112277985\n",
      "OrderedDict({'weights': tensor([0.6227]), 'bias': tensor([0.3323])})\n",
      "Loss: 0.015525798313319683\n",
      "Epoch: 126 | Loss: 0.015525798313319683 | Test loss: 0.035366542637348175\n",
      "OrderedDict({'weights': tensor([0.6245]), 'bias': tensor([0.3318])})\n",
      "Loss: 0.015182236209511757\n",
      "Epoch: 127 | Loss: 0.015182236209511757 | Test loss: 0.034951429814100266\n",
      "OrderedDict({'weights': tensor([0.6261]), 'bias': tensor([0.3308])})\n",
      "Loss: 0.014840595424175262\n",
      "Epoch: 128 | Loss: 0.014840595424175262 | Test loss: 0.03384942561388016\n",
      "OrderedDict({'weights': tensor([0.6279]), 'bias': tensor([0.3303])})\n",
      "Loss: 0.01449323259294033\n",
      "Epoch: 129 | Loss: 0.01449323259294033 | Test loss: 0.03343429043889046\n",
      "OrderedDict({'weights': tensor([0.6295]), 'bias': tensor([0.3293])})\n",
      "Loss: 0.014155393466353416\n",
      "Epoch: 130 | Loss: 0.014155393466353416 | Test loss: 0.03233227878808975\n",
      "OrderedDict({'weights': tensor([0.6313]), 'bias': tensor([0.3288])})\n",
      "Loss: 0.013806397095322609\n",
      "Epoch: 131 | Loss: 0.013806397095322609 | Test loss: 0.031230276450514793\n",
      "OrderedDict({'weights': tensor([0.6331]), 'bias': tensor([0.3283])})\n",
      "Loss: 0.013468016870319843\n",
      "Epoch: 132 | Loss: 0.013468016870319843 | Test loss: 0.030815154314041138\n",
      "OrderedDict({'weights': tensor([0.6347]), 'bias': tensor([0.3273])})\n",
      "Loss: 0.013121193274855614\n",
      "Epoch: 133 | Loss: 0.013121193274855614 | Test loss: 0.02971314825117588\n",
      "OrderedDict({'weights': tensor([0.6365]), 'bias': tensor([0.3268])})\n",
      "Loss: 0.01277900766581297\n",
      "Epoch: 134 | Loss: 0.01277900766581297 | Test loss: 0.02929801307618618\n",
      "OrderedDict({'weights': tensor([0.6381]), 'bias': tensor([0.3258])})\n",
      "Loss: 0.012435992248356342\n",
      "Epoch: 135 | Loss: 0.012435992248356342 | Test loss: 0.028196018189191818\n",
      "OrderedDict({'weights': tensor([0.6399]), 'bias': tensor([0.3253])})\n",
      "Loss: 0.01208999752998352\n",
      "Epoch: 136 | Loss: 0.01208999752998352 | Test loss: 0.027780896052718163\n",
      "OrderedDict({'weights': tensor([0.6415]), 'bias': tensor([0.3243])})\n",
      "Loss: 0.011750795878469944\n",
      "Epoch: 137 | Loss: 0.011750795878469944 | Test loss: 0.026678884401917458\n",
      "OrderedDict({'weights': tensor([0.6433]), 'bias': tensor([0.3238])})\n",
      "Loss: 0.011401787400245667\n",
      "Epoch: 138 | Loss: 0.011401787400245667 | Test loss: 0.025576870888471603\n",
      "OrderedDict({'weights': tensor([0.6451]), 'bias': tensor([0.3233])})\n",
      "Loss: 0.011064787395298481\n",
      "Epoch: 139 | Loss: 0.011064787395298481 | Test loss: 0.025161748751997948\n",
      "OrderedDict({'weights': tensor([0.6467]), 'bias': tensor([0.3223])})\n",
      "Loss: 0.010716589167714119\n",
      "Epoch: 140 | Loss: 0.010716589167714119 | Test loss: 0.024059748277068138\n",
      "OrderedDict({'weights': tensor([0.6485]), 'bias': tensor([0.3218])})\n",
      "Loss: 0.010375778190791607\n",
      "Epoch: 141 | Loss: 0.010375778190791607 | Test loss: 0.023644620552659035\n",
      "OrderedDict({'weights': tensor([0.6501]), 'bias': tensor([0.3208])})\n",
      "Loss: 0.010031387209892273\n",
      "Epoch: 142 | Loss: 0.010031387209892273 | Test loss: 0.022542614489793777\n",
      "OrderedDict({'weights': tensor([0.6519]), 'bias': tensor([0.3203])})\n",
      "Loss: 0.009686763398349285\n",
      "Epoch: 143 | Loss: 0.009686763398349285 | Test loss: 0.022127490490674973\n",
      "OrderedDict({'weights': tensor([0.6534]), 'bias': tensor([0.3193])})\n",
      "Loss: 0.009346187114715576\n",
      "Epoch: 144 | Loss: 0.009346187114715576 | Test loss: 0.021025484427809715\n",
      "OrderedDict({'weights': tensor([0.6552]), 'bias': tensor([0.3188])})\n",
      "Loss: 0.008997755125164986\n",
      "Epoch: 145 | Loss: 0.008997755125164986 | Test loss: 0.020610356703400612\n",
      "OrderedDict({'weights': tensor([0.6568]), 'bias': tensor([0.3178])})\n",
      "Loss: 0.008660981431603432\n",
      "Epoch: 146 | Loss: 0.008660981431603432 | Test loss: 0.019508343189954758\n",
      "OrderedDict({'weights': tensor([0.6586]), 'bias': tensor([0.3173])})\n",
      "Loss: 0.008311985060572624\n",
      "Epoch: 147 | Loss: 0.008311985060572624 | Test loss: 0.018406350165605545\n",
      "OrderedDict({'weights': tensor([0.6604]), 'bias': tensor([0.3168])})\n",
      "Loss: 0.007972544990479946\n",
      "Epoch: 148 | Loss: 0.007972544990479946 | Test loss: 0.017991220578551292\n",
      "OrderedDict({'weights': tensor([0.6620]), 'bias': tensor([0.3158])})\n",
      "Loss: 0.007626785431057215\n",
      "Epoch: 149 | Loss: 0.007626785431057215 | Test loss: 0.016889220103621483\n",
      "OrderedDict({'weights': tensor([0.6638]), 'bias': tensor([0.3153])})\n",
      "Loss: 0.0072835334576666355\n",
      "Epoch: 150 | Loss: 0.0072835334576666355 | Test loss: 0.016474086791276932\n",
      "OrderedDict({'weights': tensor([0.6654]), 'bias': tensor([0.3143])})\n",
      "Loss: 0.006941580679267645\n",
      "Epoch: 151 | Loss: 0.006941580679267645 | Test loss: 0.0153720797970891\n",
      "OrderedDict({'weights': tensor([0.6672]), 'bias': tensor([0.3138])})\n",
      "Loss: 0.006594526115804911\n",
      "Epoch: 152 | Loss: 0.006594526115804911 | Test loss: 0.01495695672929287\n",
      "OrderedDict({'weights': tensor([0.6688]), 'bias': tensor([0.3128])})\n",
      "Loss: 0.006256377790123224\n",
      "Epoch: 153 | Loss: 0.006256377790123224 | Test loss: 0.013854950666427612\n",
      "OrderedDict({'weights': tensor([0.6706]), 'bias': tensor([0.3123])})\n",
      "Loss: 0.005907376762479544\n",
      "Epoch: 154 | Loss: 0.005907376762479544 | Test loss: 0.012752944603562355\n",
      "OrderedDict({'weights': tensor([0.6724]), 'bias': tensor([0.3118])})\n",
      "Loss: 0.005569315515458584\n",
      "Epoch: 155 | Loss: 0.005569315515458584 | Test loss: 0.012337815947830677\n",
      "OrderedDict({'weights': tensor([0.6740]), 'bias': tensor([0.3108])})\n",
      "Loss: 0.005222178064286709\n",
      "Epoch: 156 | Loss: 0.005222178064286709 | Test loss: 0.011235815472900867\n",
      "OrderedDict({'weights': tensor([0.6758]), 'bias': tensor([0.3103])})\n",
      "Loss: 0.004880306776612997\n",
      "Epoch: 157 | Loss: 0.004880306776612997 | Test loss: 0.010820692405104637\n",
      "OrderedDict({'weights': tensor([0.6774]), 'bias': tensor([0.3093])})\n",
      "Loss: 0.004536976106464863\n",
      "Epoch: 158 | Loss: 0.004536976106464863 | Test loss: 0.009718680754303932\n",
      "OrderedDict({'weights': tensor([0.6792]), 'bias': tensor([0.3088])})\n",
      "Loss: 0.00419129803776741\n",
      "Epoch: 159 | Loss: 0.00419129803776741 | Test loss: 0.009303552098572254\n",
      "OrderedDict({'weights': tensor([0.6808]), 'bias': tensor([0.3078])})\n",
      "Loss: 0.0038517764769494534\n",
      "Epoch: 160 | Loss: 0.0038517764769494534 | Test loss: 0.008201557211577892\n",
      "OrderedDict({'weights': tensor([0.6826]), 'bias': tensor([0.3073])})\n",
      "Loss: 0.0035027749836444855\n",
      "Epoch: 161 | Loss: 0.0035027749836444855 | Test loss: 0.007099539041519165\n",
      "OrderedDict({'weights': tensor([0.6844]), 'bias': tensor([0.3068])})\n",
      "Loss: 0.0031660839449614286\n",
      "Epoch: 162 | Loss: 0.0031660839449614286 | Test loss: 0.006684416439384222\n",
      "OrderedDict({'weights': tensor([0.6860]), 'bias': tensor([0.3058])})\n",
      "Loss: 0.002817571861669421\n",
      "Epoch: 163 | Loss: 0.002817571861669421 | Test loss: 0.0055824099108576775\n",
      "OrderedDict({'weights': tensor([0.6878]), 'bias': tensor([0.3053])})\n",
      "Loss: 0.0024770735763013363\n",
      "Epoch: 164 | Loss: 0.0024770735763013363 | Test loss: 0.005167287774384022\n",
      "OrderedDict({'weights': tensor([0.6894]), 'bias': tensor([0.3043])})\n",
      "Loss: 0.0021323717664927244\n",
      "Epoch: 165 | Loss: 0.0021323717664927244 | Test loss: 0.004065275192260742\n",
      "OrderedDict({'weights': tensor([0.6912]), 'bias': tensor([0.3038])})\n",
      "Loss: 0.0017880648374557495\n",
      "Epoch: 166 | Loss: 0.0017880648374557495 | Test loss: 0.003650152590125799\n",
      "OrderedDict({'weights': tensor([0.6927]), 'bias': tensor([0.3028])})\n",
      "Loss: 0.0014518328243866563\n",
      "Epoch: 167 | Loss: 0.0014518328243866563 | Test loss: 0.0018701612716540694\n",
      "OrderedDict({'weights': tensor([0.6947]), 'bias': tensor([0.3028])})\n",
      "Loss: 0.0011887758737429976\n",
      "Epoch: 168 | Loss: 0.0011887758737429976 | Test loss: 0.005023092031478882\n",
      "OrderedDict({'weights': tensor([0.6951]), 'bias': tensor([0.2993])})\n",
      "Loss: 0.0025885067880153656\n",
      "Epoch: 169 | Loss: 0.0025885067880153656 | Test loss: 0.008447891101241112\n",
      "OrderedDict({'weights': tensor([0.6990]), 'bias': tensor([0.3093])})\n",
      "Loss: 0.008932482451200485\n",
      "Epoch: 170 | Loss: 0.008932482451200485 | Test loss: 0.005023092031478882\n",
      "OrderedDict({'weights': tensor([0.6951]), 'bias': tensor([0.2993])})\n",
      "Loss: 0.0025885067880153656\n",
      "Epoch: 171 | Loss: 0.0025885067880153656 | Test loss: 0.008447891101241112\n",
      "OrderedDict({'weights': tensor([0.6990]), 'bias': tensor([0.3093])})\n",
      "Loss: 0.008932482451200485\n",
      "Epoch: 172 | Loss: 0.008932482451200485 | Test loss: 0.005023092031478882\n",
      "OrderedDict({'weights': tensor([0.6951]), 'bias': tensor([0.2993])})\n",
      "Loss: 0.0025885067880153656\n",
      "Epoch: 173 | Loss: 0.0025885067880153656 | Test loss: 0.008447891101241112\n",
      "OrderedDict({'weights': tensor([0.6990]), 'bias': tensor([0.3093])})\n",
      "Loss: 0.008932482451200485\n",
      "Epoch: 174 | Loss: 0.008932482451200485 | Test loss: 0.005023092031478882\n",
      "OrderedDict({'weights': tensor([0.6951]), 'bias': tensor([0.2993])})\n",
      "Loss: 0.0025885067880153656\n",
      "Epoch: 175 | Loss: 0.0025885067880153656 | Test loss: 0.008447891101241112\n",
      "OrderedDict({'weights': tensor([0.6990]), 'bias': tensor([0.3093])})\n",
      "Loss: 0.008932482451200485\n",
      "Epoch: 176 | Loss: 0.008932482451200485 | Test loss: 0.005023092031478882\n",
      "OrderedDict({'weights': tensor([0.6951]), 'bias': tensor([0.2993])})\n",
      "Loss: 0.0025885067880153656\n",
      "Epoch: 177 | Loss: 0.0025885067880153656 | Test loss: 0.008447891101241112\n",
      "OrderedDict({'weights': tensor([0.6990]), 'bias': tensor([0.3093])})\n",
      "Loss: 0.008932482451200485\n",
      "Epoch: 178 | Loss: 0.008932482451200485 | Test loss: 0.005023092031478882\n",
      "OrderedDict({'weights': tensor([0.6951]), 'bias': tensor([0.2993])})\n",
      "Loss: 0.0025885067880153656\n",
      "Epoch: 179 | Loss: 0.0025885067880153656 | Test loss: 0.008447891101241112\n",
      "OrderedDict({'weights': tensor([0.6990]), 'bias': tensor([0.3093])})\n",
      "Loss: 0.008932482451200485\n",
      "Epoch: 180 | Loss: 0.008932482451200485 | Test loss: 0.005023092031478882\n",
      "OrderedDict({'weights': tensor([0.6951]), 'bias': tensor([0.2993])})\n",
      "Loss: 0.0025885067880153656\n",
      "Epoch: 181 | Loss: 0.0025885067880153656 | Test loss: 0.008447891101241112\n",
      "OrderedDict({'weights': tensor([0.6990]), 'bias': tensor([0.3093])})\n",
      "Loss: 0.008932482451200485\n",
      "Epoch: 182 | Loss: 0.008932482451200485 | Test loss: 0.005023092031478882\n",
      "OrderedDict({'weights': tensor([0.6951]), 'bias': tensor([0.2993])})\n",
      "Loss: 0.0025885067880153656\n",
      "Epoch: 183 | Loss: 0.0025885067880153656 | Test loss: 0.008447891101241112\n",
      "OrderedDict({'weights': tensor([0.6990]), 'bias': tensor([0.3093])})\n",
      "Loss: 0.008932482451200485\n",
      "Epoch: 184 | Loss: 0.008932482451200485 | Test loss: 0.005023092031478882\n",
      "OrderedDict({'weights': tensor([0.6951]), 'bias': tensor([0.2993])})\n",
      "Loss: 0.0025885067880153656\n",
      "Epoch: 185 | Loss: 0.0025885067880153656 | Test loss: 0.008447891101241112\n",
      "OrderedDict({'weights': tensor([0.6990]), 'bias': tensor([0.3093])})\n",
      "Loss: 0.008932482451200485\n",
      "Epoch: 186 | Loss: 0.008932482451200485 | Test loss: 0.005023092031478882\n",
      "OrderedDict({'weights': tensor([0.6951]), 'bias': tensor([0.2993])})\n",
      "Loss: 0.0025885067880153656\n",
      "Epoch: 187 | Loss: 0.0025885067880153656 | Test loss: 0.008447891101241112\n",
      "OrderedDict({'weights': tensor([0.6990]), 'bias': tensor([0.3093])})\n",
      "Loss: 0.008932482451200485\n",
      "Epoch: 188 | Loss: 0.008932482451200485 | Test loss: 0.005023092031478882\n",
      "OrderedDict({'weights': tensor([0.6951]), 'bias': tensor([0.2993])})\n",
      "Loss: 0.0025885067880153656\n",
      "Epoch: 189 | Loss: 0.0025885067880153656 | Test loss: 0.008447891101241112\n",
      "OrderedDict({'weights': tensor([0.6990]), 'bias': tensor([0.3093])})\n",
      "Loss: 0.008932482451200485\n",
      "Epoch: 190 | Loss: 0.008932482451200485 | Test loss: 0.005023092031478882\n",
      "OrderedDict({'weights': tensor([0.6951]), 'bias': tensor([0.2993])})\n",
      "Loss: 0.0025885067880153656\n",
      "Epoch: 191 | Loss: 0.0025885067880153656 | Test loss: 0.008447891101241112\n",
      "OrderedDict({'weights': tensor([0.6990]), 'bias': tensor([0.3093])})\n",
      "Loss: 0.008932482451200485\n",
      "Epoch: 192 | Loss: 0.008932482451200485 | Test loss: 0.005023092031478882\n",
      "OrderedDict({'weights': tensor([0.6951]), 'bias': tensor([0.2993])})\n",
      "Loss: 0.0025885067880153656\n",
      "Epoch: 193 | Loss: 0.0025885067880153656 | Test loss: 0.008447891101241112\n",
      "OrderedDict({'weights': tensor([0.6990]), 'bias': tensor([0.3093])})\n",
      "Loss: 0.008932482451200485\n",
      "Epoch: 194 | Loss: 0.008932482451200485 | Test loss: 0.005023092031478882\n",
      "OrderedDict({'weights': tensor([0.6951]), 'bias': tensor([0.2993])})\n",
      "Loss: 0.0025885067880153656\n",
      "Epoch: 195 | Loss: 0.0025885067880153656 | Test loss: 0.008447891101241112\n",
      "OrderedDict({'weights': tensor([0.6990]), 'bias': tensor([0.3093])})\n",
      "Loss: 0.008932482451200485\n",
      "Epoch: 196 | Loss: 0.008932482451200485 | Test loss: 0.005023092031478882\n",
      "OrderedDict({'weights': tensor([0.6951]), 'bias': tensor([0.2993])})\n",
      "Loss: 0.0025885067880153656\n",
      "Epoch: 197 | Loss: 0.0025885067880153656 | Test loss: 0.008447891101241112\n",
      "OrderedDict({'weights': tensor([0.6990]), 'bias': tensor([0.3093])})\n",
      "Loss: 0.008932482451200485\n",
      "Epoch: 198 | Loss: 0.008932482451200485 | Test loss: 0.005023092031478882\n",
      "OrderedDict({'weights': tensor([0.6951]), 'bias': tensor([0.2993])})\n",
      "Loss: 0.0025885067880153656\n",
      "Epoch: 199 | Loss: 0.0025885067880153656 | Test loss: 0.008447891101241112\n",
      "OrderedDict({'weights': tensor([0.6990]), 'bias': tensor([0.3093])})\n"
     ]
    }
   ],
   "source": [
    "torch.manual_seed(42)\n",
    "\n",
    "# An eopch is one loop through the data... (this is a hyperparameter because we've set it ourselves)\n",
    "epochs = 200\n",
    "\n",
    "# Trakck different values\n",
    "epoch_count = []\n",
    "loss_values = []\n",
    "test_loss_values = []\n",
    "\n",
    "### Training\n",
    "# Pass the data through the model for a number of epochs (e.g. 1)\n",
    "# 0. Loop through the data \n",
    "for epoch in range (epochs):\n",
    "    # Set the model to training mode\n",
    "    model_0.train() #train mode in PyTorch sets all parameters that require gradients to require\n",
    "\n",
    "    # 1. Forward pass\n",
    "    y_pred = model_0(X_train)\n",
    "\n",
    "    # 2. Calculate the loss\n",
    "    loss = loss_fn(y_pred,y_train)\n",
    "    print(f'Loss: {loss}')\n",
    "\n",
    "    # 3. Optimizer zero grad\n",
    "    optimizer.zero_grad()\n",
    "\n",
    "    # 4. Perform backpropagation on loss with respect to parameters of the model\n",
    "    loss.backward()\n",
    "    \n",
    "    # 5. Step the optimizer (perform gradient descent)\n",
    "    optimizer.step() # by default how the optimizer changes will accumulate through the loop so... we have to zero them above in step 3 for the next iteration o f the loop\n",
    "\n",
    "    ### Testing\n",
    "    model_0.eval()  # turns off different settings in the model not needed for evaluation/testing (droput/batch norm layers) \n",
    "    with torch.inference_mode(): # turns off gradient tracking & a couple more things behind the scenes\n",
    "    #with torch.no_grad(): # You may also see torch.no_grad() in older PyTorch code \n",
    "        # 1. Do the forward pass \n",
    "        test_pred = model_0(X_test)\n",
    "\n",
    "        # 2. Calculate the loss\n",
    "        test_loss = loss_fn(test_pred,y_test)\n",
    "    \n",
    "    # Print out what's happenin\n",
    "    epoch_count.append(epoch)\n",
    "    loss_values.append(loss)\n",
    "    test_loss_values.append(test_loss)\n",
    "\n",
    "    print(f'Epoch: {epoch} | Loss: {loss} | Test loss: {test_loss}')\n",
    "\n",
    "    # Print out model state_dict()\n",
    "    print(model_0.state_dict())\n",
    "    "
   ]
  },
  {
   "cell_type": "code",
   "execution_count": 20,
   "metadata": {},
   "outputs": [
    {
     "ename": "TypeError",
     "evalue": "Field elements must be 2- or 3-tuples, got 'tensor(0.4811)'",
     "output_type": "error",
     "traceback": [
      "\u001b[1;31m---------------------------------------------------------------------------\u001b[0m",
      "\u001b[1;31mTypeError\u001b[0m                                 Traceback (most recent call last)",
      "Cell \u001b[1;32mIn[20], line 1\u001b[0m\n\u001b[1;32m----> 1\u001b[0m \u001b[43mnp\u001b[49m\u001b[38;5;241;43m.\u001b[39;49m\u001b[43marray\u001b[49m\u001b[43m(\u001b[49m\u001b[43mloss_values\u001b[49m\u001b[43m,\u001b[49m\u001b[43mtest_loss_values\u001b[49m\u001b[43m)\u001b[49m\n",
      "\u001b[1;31mTypeError\u001b[0m: Field elements must be 2- or 3-tuples, got 'tensor(0.4811)'"
     ]
    }
   ],
   "source": [
    "np.array(loss_values,test_loss_values)"
   ]
  },
  {
   "cell_type": "code",
   "execution_count": 21,
   "metadata": {},
   "outputs": [
    {
     "data": {
      "image/png": "[encoded data removed]",
      "text/plain": [
       "<Figure size 640x480 with 1 Axes>"
      ]
     },
     "metadata": {},
     "output_type": "display_data"
    }
   ],
   "source": [
    "# Plot the loss curves\n",
    "plt.plot(epoch_count,np.array(torch.tensor(loss_values).numpy()),label='Train loss')\n",
    "plt.plot(epoch_count,np.array(torch.tensor(test_loss_values).numpy()), label ='Test loss')\n",
    "plt.title('Training and Testing Loss Curves')\n",
    "plt.ylabel(\"Loss\")\n",
    "plt.xlabel(\"Epochs\")\n",
    "plt.legend();"
   ]
  },
  {
   "cell_type": "code",
   "execution_count": 22,
   "metadata": {},
   "outputs": [],
   "source": [
    "with torch.inference_mode():\n",
    "    y_preds_new= model_0(X_test)"
   ]
  },
  {
   "cell_type": "code",
   "execution_count": 23,
   "metadata": {},
   "outputs": [
    {
     "data": {
      "image/png": "[encoded data removed]",
      "text/plain": [
       "<Figure size 1000x700 with 1 Axes>"
      ]
     },
     "metadata": {},
     "output_type": "display_data"
    }
   ],
   "source": [
    "plot_predictions(predictions=y_preds_new)"
   ]
  },
  {
   "cell_type": "code",
   "execution_count": 24,
   "metadata": {},
   "outputs": [
    {
     "data": {
      "text/plain": [
       "OrderedDict([('weights', tensor([0.6990])), ('bias', tensor([0.3093]))])"
      ]
     },
     "execution_count": 24,
     "metadata": {},
     "output_type": "execute_result"
    }
   ],
   "source": [
    "model_0.state_dict()"
   ]
  },
  {
   "cell_type": "markdown",
   "metadata": {},
   "source": [
    "## Saving a Model in PyTorch\n",
    "\n",
    "There are three main methods you should know about for saving and loading models in PyTorch. \n",
    "\n",
    "1. `torch.save()` - allows you save a PyTorch object in Python's pickle format - https://docs.python.org/3/library/pickle.html\n",
    "2. `torch.load()` - allow you load a saved PyTorch object\n",
    "3. `torch.nn.Module.load_state_dict()` - this allow to load a model's saved state dictionary\n",
    "\n",
    "PyTorch save & load code tutorial  + extra curriculum: https://pytorch.org/tutorials/beginner/saving_loading_models.html#saving-loading-model-for-inference"
   ]
  },
  {
   "cell_type": "code",
   "execution_count": 26,
   "metadata": {},
   "outputs": [
    {
     "name": "stdout",
     "output_type": "stream",
     "text": [
      "Saving model to: models\\01_pytorch_workflow_0.pth\n"
     ]
    }
   ],
   "source": [
    " # Saving our PyTorch model\n",
    "\n",
    "# 1. Create models directory\n",
    "\n",
    "MODEL_PATH = Path(\"models\")\n",
    "MODEL_PATH.mkdir(parents=True, exist_ok=True)\n",
    "\n",
    "# 2. Create model save path \n",
    "MODEL_NAME = \"01_pytorch_workflow_0.pth\"\n",
    "MODEL_SAVE_PATH =  MODEL_PATH / MODEL_NAME\n",
    "\n",
    "MODEL_SAVE_PATH\n",
    "\n",
    "# 3.Save the model state dict\n",
    "print(f'Saving model to: {MODEL_SAVE_PATH}')\n",
    "torch.save(obj=model_0.state_dict(),f=MODEL_SAVE_PATH)"
   ]
  },
  {
   "cell_type": "code",
   "execution_count": 39,
   "metadata": {},
   "outputs": [
    {
     "data": {
      "text/plain": [
       "['01_pytorch_workflow_0.pth']"
      ]
     },
     "execution_count": 39,
     "metadata": {},
     "output_type": "execute_result"
    }
   ],
   "source": [
    "os.listdir('models')"
   ]
  },
  {
   "cell_type": "markdown",
   "metadata": {},
   "source": [
    "## Loading a PyTorch model\n",
    "\n",
    "Since we saved our model's `state_dict` rather the entire model, we'll create a new instance of our model class and load the saved `state_dict()` into that."
   ]
  },
  {
   "cell_type": "code",
   "execution_count": 44,
   "metadata": {},
   "outputs": [
    {
     "name": "stderr",
     "output_type": "stream",
     "text": [
      "C:\\Users\\Caner\\AppData\\Local\\Temp\\ipykernel_51940\\1851134341.py:5: FutureWarning: You are using `torch.load` with `weights_only=False` (the current default value), which uses the default pickle module implicitly. It is possible to construct malicious pickle data which will execute arbitrary code during unpickling (See https://github.com/pytorch/pytorch/blob/main/SECURITY.md#untrusted-models for more details). In a future release, the default value for `weights_only` will be flipped to `True`. This limits the functions that could be executed during unpickling. Arbitrary objects will no longer be allowed to be loaded via this mode unless they are explicitly allowlisted by the user via `torch.serialization.add_safe_globals`. We recommend you start setting `weights_only=True` for any use case where you don't have full control of the loaded file. Please open an issue on GitHub for any issues related to this experimental feature.\n",
      "  loaded_model_0.load_state_dict(torch.load(f=MODEL_SAVE_PATH))\n"
     ]
    },
    {
     "data": {
      "text/plain": [
       "<All keys matched successfully>"
      ]
     },
     "execution_count": 44,
     "metadata": {},
     "output_type": "execute_result"
    }
   ],
   "source": [
    "# To load in a saved state_Dict we have to instantiate a new instance of our model class\n",
    "loaded_model_0 = LinearRregressionModel()\n",
    "\n",
    "# Load the saved state_dict of model_0 (this will update the new instance with updated parameters)\n",
    "loaded_model_0.load_state_dict(torch.load(f=MODEL_SAVE_PATH))"
   ]
  },
  {
   "cell_type": "code",
   "execution_count": 45,
   "metadata": {},
   "outputs": [
    {
     "data": {
      "text/plain": [
       "OrderedDict([('weights', tensor([0.6990])), ('bias', tensor([0.3093]))])"
      ]
     },
     "execution_count": 45,
     "metadata": {},
     "output_type": "execute_result"
    }
   ],
   "source": [
    "loaded_model_0.state_dict()"
   ]
  },
  {
   "cell_type": "code",
   "execution_count": 46,
   "metadata": {},
   "outputs": [
    {
     "data": {
      "text/plain": [
       "tensor([[0.8685],\n",
       "        [0.8825],\n",
       "        [0.8965],\n",
       "        [0.9105],\n",
       "        [0.9245],\n",
       "        [0.9384],\n",
       "        [0.9524],\n",
       "        [0.9664],\n",
       "        [0.9804],\n",
       "        [0.9944]])"
      ]
     },
     "execution_count": 46,
     "metadata": {},
     "output_type": "execute_result"
    }
   ],
   "source": [
    "# Make Some Predictions with our loaded model\n",
    "loaded_model_0.eval()\n",
    "with torch.inference_mode():\n",
    "    loaded_model_preds = loaded_model_0(X_test)\n",
    "\n",
    "loaded_model_preds"
   ]
  },
  {
   "cell_type": "code",
   "execution_count": 48,
   "metadata": {},
   "outputs": [
    {
     "data": {
      "text/plain": [
       "tensor([[True],\n",
       "        [True],\n",
       "        [True],\n",
       "        [True],\n",
       "        [True],\n",
       "        [True],\n",
       "        [True],\n",
       "        [True],\n",
       "        [True],\n",
       "        [True]])"
      ]
     },
     "execution_count": 48,
     "metadata": {},
     "output_type": "execute_result"
    }
   ],
   "source": [
    "# Compare loaded model preds with original preds \n",
    "y_preds_new == loaded_model_preds"
   ]
  },
  {
   "cell_type": "markdown",
   "metadata": {},
   "source": [
    "### 6. Putting it all together \n",
    "\n",
    "Let's go back through the steps above and see it all in one place"
   ]
  },
  {
   "cell_type": "markdown",
   "metadata": {},
   "source": [
    "Creaste device=agnostic code.\n",
    "\n",
    "This means if we've got acces to a GPU, our code will use it (for potentially faster computing)\n",
    "\n",
    "If no GPU available, the code will default to using CPU."
   ]
  },
  {
   "cell_type": "code",
   "execution_count": 3,
   "metadata": {},
   "outputs": [
    {
     "name": "stdout",
     "output_type": "stream",
     "text": [
      "Using device: cuda\n"
     ]
    }
   ],
   "source": [
    "# Setup device-agnostic code\n",
    "\n",
    "device = \"cuda\" if torch.cuda.is_available() else \"cpu\"\n",
    "print(f'Using device: {device}')"
   ]
  },
  {
   "cell_type": "markdown",
   "metadata": {},
   "source": [
    "### 6.1 Data"
   ]
  },
  {
   "cell_type": "code",
   "execution_count": 4,
   "metadata": {},
   "outputs": [
    {
     "data": {
      "text/plain": [
       "(tensor([[0.0000],\n",
       "         [0.0200],\n",
       "         [0.0400],\n",
       "         [0.0600],\n",
       "         [0.0800],\n",
       "         [0.1000],\n",
       "         [0.1200],\n",
       "         [0.1400],\n",
       "         [0.1600],\n",
       "         [0.1800]]),\n",
       " tensor([[0.3000],\n",
       "         [0.3140],\n",
       "         [0.3280],\n",
       "         [0.3420],\n",
       "         [0.3560],\n",
       "         [0.3700],\n",
       "         [0.3840],\n",
       "         [0.3980],\n",
       "         [0.4120],\n",
       "         [0.4260]]))"
      ]
     },
     "execution_count": 4,
     "metadata": {},
     "output_type": "execute_result"
    }
   ],
   "source": [
    "# Create some data using the linear regression formula of y =weight * X + bias\n",
    "\n",
    "weight = 0.7\n",
    "bias = 0.3\n",
    "\n",
    "# Createa range values \n",
    "start =0\n",
    "end = 1 \n",
    "step = 0.02\n",
    "\n",
    "# Create X and y (features and labels)\n",
    "X= torch.arange(start,end,step).unsqueeze(dim=1) # without unsqueeze, erros will pop up\n",
    "y= weight * X + bias\n",
    "X[:10], y[:10]\n"
   ]
  },
  {
   "cell_type": "code",
   "execution_count": 5,
   "metadata": {},
   "outputs": [
    {
     "data": {
      "text/plain": [
       "(40, 40, 10, 10)"
      ]
     },
     "execution_count": 5,
     "metadata": {},
     "output_type": "execute_result"
    }
   ],
   "source": [
    "# Split data\n",
    "train_split = int(0.8 * len(X))\n",
    "X_train,y_train = X[:train_split],y[:train_split]\n",
    "X_test,y_test = X[train_split:],y[train_split:]\n",
    "len(X_train),len(y_train),len(X_test),len(y_test)"
   ]
  },
  {
   "cell_type": "code",
   "execution_count": 8,
   "metadata": {},
   "outputs": [
    {
     "data": {
      "image/png": "[encoded data removed]",
      "text/plain": [
       "<Figure size 1000x700 with 1 Axes>"
      ]
     },
     "metadata": {},
     "output_type": "display_data"
    }
   ],
   "source": [
    "# Plot the data\n",
    "# Note: if you don't have the plot_predictions() function loaded,this will error\n",
    "plot_predictions(X_train, y_train,X_test,y_test)"
   ]
  },
  {
   "cell_type": "markdown",
   "metadata": {},
   "source": [
    "### 6.2 Building a PyTorch Linear model\n",
    "\n",
    "\n",
    "https://pytorch.org/docs/stable/generated/torch.nn.Linear.html"
   ]
  },
  {
   "cell_type": "code",
   "execution_count": 2,
   "metadata": {},
   "outputs": [
    {
     "data": {
      "text/plain": [
       "(LinearRegressionModelV2(\n",
       "   (linear_layer): Linear(in_features=1, out_features=1, bias=True)\n",
       " ),\n",
       " OrderedDict([('linear_layer.weight', tensor([[0.7645]])),\n",
       "              ('linear_layer.bias', tensor([0.8300]))]))"
      ]
     },
     "execution_count": 2,
     "metadata": {},
     "output_type": "execute_result"
    }
   ],
   "source": [
    "# Create a linear model by subclassing nn.Module\n",
    "class LinearRegressionModelV2(nn.Module):\n",
    "    def __init__(self):\n",
    "        super().__init__()\n",
    "        # Use nn.Linear() for creating the model paramteters  / also called : linear transform, probing layer, fully connected layer, dense layer\n",
    "        self.linear_layer = nn.Linear(in_features=1,out_features=1)\n",
    "\n",
    "    def forward(self,x:torch.Tensor) -> torch.Tensor:\n",
    "        return self.linear_layer(x)\n",
    "    \n",
    "# Set the manual seed \n",
    "torch.manual_seed(42)\n",
    "model_1 = LinearRegressionModelV2()\n",
    "model_1,model_1.state_dict()"
   ]
  },
  {
   "cell_type": "code",
   "execution_count": 11,
   "metadata": {},
   "outputs": [
    {
     "data": {
      "text/plain": [
       "device(type='cpu')"
      ]
     },
     "execution_count": 11,
     "metadata": {},
     "output_type": "execute_result"
    }
   ],
   "source": [
    "# Check the model current device \n",
    "next(model_1.parameters()).device"
   ]
  },
  {
   "cell_type": "code",
   "execution_count": 15,
   "metadata": {},
   "outputs": [
    {
     "data": {
      "text/plain": [
       "device(type='cuda', index=0)"
      ]
     },
     "execution_count": 15,
     "metadata": {},
     "output_type": "execute_result"
    }
   ],
   "source": [
    "# Set the model to use the target device \n",
    "model_1.to(device)\n",
    "next(model_1.parameters()).device"
   ]
  },
  {
   "cell_type": "markdown",
   "metadata": {},
   "source": [
    "### 6.3 Training\n",
    "\n",
    "For training we need:\n",
    "* Loss function\n",
    "* Optimizer\n",
    "* Training loop\n",
    "* Testing loop"
   ]
  },
  {
   "cell_type": "code",
   "execution_count": 16,
   "metadata": {},
   "outputs": [],
   "source": [
    "# Setup loss function\n",
    "loss_fn = nn.L1Loss() # same as MAE\n",
    "\n",
    "# Setup our optimizer\n",
    "optimizer = torch.optim.SGD(params=model_1.parameters(),lr=0.01)\n"
   ]
  },
  {
   "cell_type": "code",
   "execution_count": 18,
   "metadata": {},
   "outputs": [
    {
     "name": "stdout",
     "output_type": "stream",
     "text": [
      "Epoch: 0 | Loss: 0.5551779866218567 | Test loss: 0.5739762187004089\n",
      "Epoch: 1 | Loss: 0.5436570048332214 | Test loss: 0.560505211353302\n",
      "Epoch: 2 | Loss: 0.5321359634399414 | Test loss: 0.5470342636108398\n",
      "Epoch: 3 | Loss: 0.5206149816513062 | Test loss: 0.5335632562637329\n",
      "Epoch: 4 | Loss: 0.5090939998626709 | Test loss: 0.5200923085212708\n",
      "Epoch: 5 | Loss: 0.49757298827171326 | Test loss: 0.5066213011741638\n",
      "Epoch: 6 | Loss: 0.4860520362854004 | Test loss: 0.4931503236293793\n",
      "Epoch: 7 | Loss: 0.47453102469444275 | Test loss: 0.4796793460845947\n",
      "Epoch: 8 | Loss: 0.4630100429058075 | Test loss: 0.4662083685398102\n",
      "Epoch: 9 | Loss: 0.45148906111717224 | Test loss: 0.45273739099502563\n",
      "Epoch: 10 | Loss: 0.439968079328537 | Test loss: 0.4392664134502411\n",
      "Epoch: 11 | Loss: 0.42844706773757935 | Test loss: 0.42579540610313416\n",
      "Epoch: 12 | Loss: 0.4169261157512665 | Test loss: 0.4123244285583496\n",
      "Epoch: 13 | Loss: 0.4054051339626312 | Test loss: 0.39885345101356506\n",
      "Epoch: 14 | Loss: 0.3938841223716736 | Test loss: 0.3853824734687805\n",
      "Epoch: 15 | Loss: 0.38236314058303833 | Test loss: 0.37191149592399597\n",
      "Epoch: 16 | Loss: 0.3708421289920807 | Test loss: 0.35844048857688904\n",
      "Epoch: 17 | Loss: 0.35932111740112305 | Test loss: 0.3449695110321045\n",
      "Epoch: 18 | Loss: 0.3478001654148102 | Test loss: 0.33149853348731995\n",
      "Epoch: 19 | Loss: 0.3362792134284973 | Test loss: 0.3180275559425354\n",
      "Epoch: 20 | Loss: 0.3247582018375397 | Test loss: 0.30455657839775085\n",
      "Epoch: 21 | Loss: 0.31323719024658203 | Test loss: 0.2910855710506439\n",
      "Epoch: 22 | Loss: 0.3017162084579468 | Test loss: 0.2776145935058594\n",
      "Epoch: 23 | Loss: 0.2901952266693115 | Test loss: 0.26414358615875244\n",
      "Epoch: 24 | Loss: 0.2786742150783539 | Test loss: 0.2506726384162903\n",
      "Epoch: 25 | Loss: 0.267153263092041 | Test loss: 0.23720164597034454\n",
      "Epoch: 26 | Loss: 0.2556322515010834 | Test loss: 0.22373066842556\n",
      "Epoch: 27 | Loss: 0.2441112995147705 | Test loss: 0.21025967597961426\n",
      "Epoch: 28 | Loss: 0.23259030282497406 | Test loss: 0.1967886984348297\n",
      "Epoch: 29 | Loss: 0.2210693210363388 | Test loss: 0.18331770598888397\n",
      "Epoch: 30 | Loss: 0.20954833924770355 | Test loss: 0.16984669864177704\n",
      "Epoch: 31 | Loss: 0.1980273425579071 | Test loss: 0.15637575089931488\n",
      "Epoch: 32 | Loss: 0.18650634586811066 | Test loss: 0.14290474355220795\n",
      "Epoch: 33 | Loss: 0.1749853491783142 | Test loss: 0.1294337660074234\n",
      "Epoch: 34 | Loss: 0.16346438229084015 | Test loss: 0.11596281826496124\n",
      "Epoch: 35 | Loss: 0.1519434005022049 | Test loss: 0.1024918332695961\n",
      "Epoch: 36 | Loss: 0.14042238891124725 | Test loss: 0.08902084082365036\n",
      "Epoch: 37 | Loss: 0.128901407122612 | Test loss: 0.07554984837770462\n",
      "Epoch: 38 | Loss: 0.11738043278455734 | Test loss: 0.06207885965704918\n",
      "Epoch: 39 | Loss: 0.1058594360947609 | Test loss: 0.048607874661684036\n",
      "Epoch: 40 | Loss: 0.09433845430612564 | Test loss: 0.03513690456748009\n",
      "Epoch: 41 | Loss: 0.0828174576163292 | Test loss: 0.021665919572114944\n",
      "Epoch: 42 | Loss: 0.07129647582769394 | Test loss: 0.008412850089371204\n",
      "Epoch: 43 | Loss: 0.05977549031376839 | Test loss: 0.006606984417885542\n",
      "Epoch: 44 | Loss: 0.048254501074552536 | Test loss: 0.018747026100754738\n",
      "Epoch: 45 | Loss: 0.03738182410597801 | Test loss: 0.029703443869948387\n",
      "Epoch: 46 | Loss: 0.030850563198328018 | Test loss: 0.03664686158299446\n",
      "Epoch: 47 | Loss: 0.02764224074780941 | Test loss: 0.04128924012184143\n",
      "Epoch: 48 | Loss: 0.025835609063506126 | Test loss: 0.044442154467105865\n",
      "Epoch: 49 | Loss: 0.02469830960035324 | Test loss: 0.046863656491041183\n",
      "Epoch: 50 | Loss: 0.023886388167738914 | Test loss: 0.04784907028079033\n",
      "Epoch: 51 | Loss: 0.023356428369879723 | Test loss: 0.04883447289466858\n",
      "Epoch: 52 | Loss: 0.022868333384394646 | Test loss: 0.04911517724394798\n",
      "Epoch: 53 | Loss: 0.022455641999840736 | Test loss: 0.04939587041735649\n",
      "Epoch: 54 | Loss: 0.022062918171286583 | Test loss: 0.048980750143527985\n",
      "Epoch: 55 | Loss: 0.0217101089656353 | Test loss: 0.048565614968538284\n",
      "Epoch: 56 | Loss: 0.021357299759984016 | Test loss: 0.04815049096941948\n",
      "Epoch: 57 | Loss: 0.021004488691687584 | Test loss: 0.04773538187146187\n",
      "Epoch: 58 | Loss: 0.020651673898100853 | Test loss: 0.04732024669647217\n",
      "Epoch: 59 | Loss: 0.02029886282980442 | Test loss: 0.04690512642264366\n",
      "Epoch: 60 | Loss: 0.019956795498728752 | Test loss: 0.045803118497133255\n",
      "Epoch: 61 | Loss: 0.019609849900007248 | Test loss: 0.04538799077272415\n",
      "Epoch: 62 | Loss: 0.019271593540906906 | Test loss: 0.044285982847213745\n",
      "Epoch: 63 | Loss: 0.0189225934445858 | Test loss: 0.04318398982286453\n",
      "Epoch: 64 | Loss: 0.01858464628458023 | Test loss: 0.04276885464787483\n",
      "Epoch: 65 | Loss: 0.018237387761473656 | Test loss: 0.04166685417294502\n",
      "Epoch: 66 | Loss: 0.01789563149213791 | Test loss: 0.04125171899795532\n",
      "Epoch: 67 | Loss: 0.017552189528942108 | Test loss: 0.04014972597360611\n",
      "Epoch: 68 | Loss: 0.017206626012921333 | Test loss: 0.03973459079861641\n",
      "Epoch: 69 | Loss: 0.016866983845829964 | Test loss: 0.0386325903236866\n",
      "Epoch: 70 | Loss: 0.016517987474799156 | Test loss: 0.037530567497015\n",
      "Epoch: 71 | Loss: 0.01618141122162342 | Test loss: 0.03711546212434769\n",
      "Epoch: 72 | Loss: 0.01583278924226761 | Test loss: 0.03601343557238579\n",
      "Epoch: 73 | Loss: 0.01549240481108427 | Test loss: 0.03559832647442818\n",
      "Epoch: 74 | Loss: 0.015147584490478039 | Test loss: 0.03449630364775658\n",
      "Epoch: 75 | Loss: 0.014803391881287098 | Test loss: 0.034081198275089264\n",
      "Epoch: 76 | Loss: 0.014462386257946491 | Test loss: 0.032979171723127365\n",
      "Epoch: 77 | Loss: 0.014114384539425373 | Test loss: 0.032564062625169754\n",
      "Epoch: 78 | Loss: 0.013777181506156921 | Test loss: 0.031462039798498154\n",
      "Epoch: 79 | Loss: 0.013428181409835815 | Test loss: 0.030360031872987747\n",
      "Epoch: 80 | Loss: 0.013089174404740334 | Test loss: 0.02994490973651409\n",
      "Epoch: 81 | Loss: 0.012742983177304268 | Test loss: 0.028842901811003685\n",
      "Epoch: 82 | Loss: 0.01240016520023346 | Test loss: 0.02842777408659458\n",
      "Epoch: 83 | Loss: 0.012057777494192123 | Test loss: 0.027325768023729324\n",
      "Epoch: 84 | Loss: 0.011711154133081436 | Test loss: 0.02691064588725567\n",
      "Epoch: 85 | Loss: 0.01137258019298315 | Test loss: 0.025808637961745262\n",
      "Epoch: 86 | Loss: 0.01102358102798462 | Test loss: 0.024706637486815453\n",
      "Epoch: 87 | Loss: 0.010685942135751247 | Test loss: 0.0242915041744709\n",
      "Epoch: 88 | Loss: 0.010338379070162773 | Test loss: 0.023189503699541092\n",
      "Epoch: 89 | Loss: 0.009996932931244373 | Test loss: 0.02277437411248684\n",
      "Epoch: 90 | Loss: 0.009653178043663502 | Test loss: 0.02167237363755703\n",
      "Epoch: 91 | Loss: 0.00930792186409235 | Test loss: 0.02125724032521248\n",
      "Epoch: 92 | Loss: 0.008967976085841656 | Test loss: 0.02015523985028267\n",
      "Epoch: 93 | Loss: 0.008618975058197975 | Test loss: 0.019053233787417412\n",
      "Epoch: 94 | Loss: 0.008282712660729885 | Test loss: 0.018638109788298607\n",
      "Epoch: 95 | Loss: 0.007933772169053555 | Test loss: 0.017536098137497902\n",
      "Epoch: 96 | Loss: 0.007593703921884298 | Test loss: 0.017120976001024246\n",
      "Epoch: 97 | Loss: 0.0072485716082155704 | Test loss: 0.01601896993815899\n",
      "Epoch: 98 | Loss: 0.006904691457748413 | Test loss: 0.015603846870362759\n",
      "Epoch: 99 | Loss: 0.006563369184732437 | Test loss: 0.014501834288239479\n",
      "Epoch: 100 | Loss: 0.006215683650225401 | Test loss: 0.014086711220443249\n",
      "Epoch: 101 | Loss: 0.005878167692571878 | Test loss: 0.012984705157577991\n",
      "Epoch: 102 | Loss: 0.005529168527573347 | Test loss: 0.011882692575454712\n",
      "Epoch: 103 | Loss: 0.005190468858927488 | Test loss: 0.011467570438981056\n",
      "Epoch: 104 | Loss: 0.004843969829380512 | Test loss: 0.010365563444793224\n",
      "Epoch: 105 | Loss: 0.004501462914049625 | Test loss: 0.009950441308319569\n",
      "Epoch: 106 | Loss: 0.004158765077590942 | Test loss: 0.008848428726196289\n",
      "Epoch: 107 | Loss: 0.00381244788877666 | Test loss: 0.008433306589722633\n",
      "Epoch: 108 | Loss: 0.003473566612228751 | Test loss: 0.007331300061196089\n",
      "Epoch: 109 | Loss: 0.0031245655845850706 | Test loss: 0.006229287479072809\n",
      "Epoch: 110 | Loss: 0.00278724217787385 | Test loss: 0.005814164876937866\n",
      "Epoch: 111 | Loss: 0.0024393596686422825 | Test loss: 0.004712170455604792\n",
      "Epoch: 112 | Loss: 0.00209822878241539 | Test loss: 0.004297036211937666\n",
      "Epoch: 113 | Loss: 0.0017541624838486314 | Test loss: 0.0031950236298143864\n",
      "Epoch: 114 | Loss: 0.0014092214405536652 | Test loss: 0.0027799010276794434\n",
      "Epoch: 115 | Loss: 0.0010779149597510695 | Test loss: 0.00033081771107390523\n",
      "Epoch: 116 | Loss: 0.0012645035749301314 | Test loss: 0.013801801018416882\n",
      "Epoch: 117 | Loss: 0.010256479494273663 | Test loss: 0.00033081771107390523\n",
      "Epoch: 118 | Loss: 0.0012645035749301314 | Test loss: 0.013801801018416882\n",
      "Epoch: 119 | Loss: 0.010256479494273663 | Test loss: 0.00033081771107390523\n",
      "Epoch: 120 | Loss: 0.0012645035749301314 | Test loss: 0.013801801018416882\n",
      "Epoch: 121 | Loss: 0.010256479494273663 | Test loss: 0.00033081771107390523\n",
      "Epoch: 122 | Loss: 0.0012645035749301314 | Test loss: 0.013801801018416882\n",
      "Epoch: 123 | Loss: 0.010256479494273663 | Test loss: 0.00033081771107390523\n",
      "Epoch: 124 | Loss: 0.0012645035749301314 | Test loss: 0.013801801018416882\n",
      "Epoch: 125 | Loss: 0.010256479494273663 | Test loss: 0.00033081771107390523\n",
      "Epoch: 126 | Loss: 0.0012645035749301314 | Test loss: 0.013801801018416882\n",
      "Epoch: 127 | Loss: 0.010256479494273663 | Test loss: 0.00033081771107390523\n",
      "Epoch: 128 | Loss: 0.0012645035749301314 | Test loss: 0.013801801018416882\n",
      "Epoch: 129 | Loss: 0.010256479494273663 | Test loss: 0.00033081771107390523\n",
      "Epoch: 130 | Loss: 0.0012645035749301314 | Test loss: 0.013801801018416882\n",
      "Epoch: 131 | Loss: 0.010256479494273663 | Test loss: 0.00033081771107390523\n",
      "Epoch: 132 | Loss: 0.0012645035749301314 | Test loss: 0.013801801018416882\n",
      "Epoch: 133 | Loss: 0.010256479494273663 | Test loss: 0.00033081771107390523\n",
      "Epoch: 134 | Loss: 0.0012645035749301314 | Test loss: 0.013801801018416882\n",
      "Epoch: 135 | Loss: 0.010256479494273663 | Test loss: 0.00033081771107390523\n",
      "Epoch: 136 | Loss: 0.0012645035749301314 | Test loss: 0.013801801018416882\n",
      "Epoch: 137 | Loss: 0.010256479494273663 | Test loss: 0.00033081771107390523\n",
      "Epoch: 138 | Loss: 0.0012645035749301314 | Test loss: 0.013801801018416882\n",
      "Epoch: 139 | Loss: 0.010256479494273663 | Test loss: 0.00033081771107390523\n",
      "Epoch: 140 | Loss: 0.0012645035749301314 | Test loss: 0.013801801018416882\n",
      "Epoch: 141 | Loss: 0.010256479494273663 | Test loss: 0.00033081771107390523\n",
      "Epoch: 142 | Loss: 0.0012645035749301314 | Test loss: 0.013801801018416882\n",
      "Epoch: 143 | Loss: 0.010256479494273663 | Test loss: 0.00033081771107390523\n",
      "Epoch: 144 | Loss: 0.0012645035749301314 | Test loss: 0.013801801018416882\n",
      "Epoch: 145 | Loss: 0.010256479494273663 | Test loss: 0.00033081771107390523\n",
      "Epoch: 146 | Loss: 0.0012645035749301314 | Test loss: 0.013801801018416882\n",
      "Epoch: 147 | Loss: 0.010256479494273663 | Test loss: 0.00033081771107390523\n",
      "Epoch: 148 | Loss: 0.0012645035749301314 | Test loss: 0.013801801018416882\n",
      "Epoch: 149 | Loss: 0.010256479494273663 | Test loss: 0.00033081771107390523\n",
      "Epoch: 150 | Loss: 0.0012645035749301314 | Test loss: 0.013801801018416882\n",
      "Epoch: 151 | Loss: 0.010256479494273663 | Test loss: 0.00033081771107390523\n",
      "Epoch: 152 | Loss: 0.0012645035749301314 | Test loss: 0.013801801018416882\n",
      "Epoch: 153 | Loss: 0.010256479494273663 | Test loss: 0.00033081771107390523\n",
      "Epoch: 154 | Loss: 0.0012645035749301314 | Test loss: 0.013801801018416882\n",
      "Epoch: 155 | Loss: 0.010256479494273663 | Test loss: 0.00033081771107390523\n",
      "Epoch: 156 | Loss: 0.0012645035749301314 | Test loss: 0.013801801018416882\n",
      "Epoch: 157 | Loss: 0.010256479494273663 | Test loss: 0.00033081771107390523\n",
      "Epoch: 158 | Loss: 0.0012645035749301314 | Test loss: 0.013801801018416882\n",
      "Epoch: 159 | Loss: 0.010256479494273663 | Test loss: 0.00033081771107390523\n",
      "Epoch: 160 | Loss: 0.0012645035749301314 | Test loss: 0.013801801018416882\n",
      "Epoch: 161 | Loss: 0.010256479494273663 | Test loss: 0.00033081771107390523\n",
      "Epoch: 162 | Loss: 0.0012645035749301314 | Test loss: 0.013801801018416882\n",
      "Epoch: 163 | Loss: 0.010256479494273663 | Test loss: 0.00033081771107390523\n",
      "Epoch: 164 | Loss: 0.0012645035749301314 | Test loss: 0.013801801018416882\n",
      "Epoch: 165 | Loss: 0.010256479494273663 | Test loss: 0.00033081771107390523\n",
      "Epoch: 166 | Loss: 0.0012645035749301314 | Test loss: 0.013801801018416882\n",
      "Epoch: 167 | Loss: 0.010256479494273663 | Test loss: 0.00033081771107390523\n",
      "Epoch: 168 | Loss: 0.0012645035749301314 | Test loss: 0.013801801018416882\n",
      "Epoch: 169 | Loss: 0.010256479494273663 | Test loss: 0.00033081771107390523\n",
      "Epoch: 170 | Loss: 0.0012645035749301314 | Test loss: 0.013801801018416882\n",
      "Epoch: 171 | Loss: 0.010256479494273663 | Test loss: 0.00033081771107390523\n",
      "Epoch: 172 | Loss: 0.0012645035749301314 | Test loss: 0.013801801018416882\n",
      "Epoch: 173 | Loss: 0.010256479494273663 | Test loss: 0.00033081771107390523\n",
      "Epoch: 174 | Loss: 0.0012645035749301314 | Test loss: 0.013801801018416882\n",
      "Epoch: 175 | Loss: 0.010256479494273663 | Test loss: 0.00033081771107390523\n",
      "Epoch: 176 | Loss: 0.0012645035749301314 | Test loss: 0.013801801018416882\n",
      "Epoch: 177 | Loss: 0.010256479494273663 | Test loss: 0.00033081771107390523\n",
      "Epoch: 178 | Loss: 0.0012645035749301314 | Test loss: 0.013801801018416882\n",
      "Epoch: 179 | Loss: 0.010256479494273663 | Test loss: 0.00033081771107390523\n",
      "Epoch: 180 | Loss: 0.0012645035749301314 | Test loss: 0.013801801018416882\n",
      "Epoch: 181 | Loss: 0.010256479494273663 | Test loss: 0.00033081771107390523\n",
      "Epoch: 182 | Loss: 0.0012645035749301314 | Test loss: 0.013801801018416882\n",
      "Epoch: 183 | Loss: 0.010256479494273663 | Test loss: 0.00033081771107390523\n",
      "Epoch: 184 | Loss: 0.0012645035749301314 | Test loss: 0.013801801018416882\n",
      "Epoch: 185 | Loss: 0.010256479494273663 | Test loss: 0.00033081771107390523\n",
      "Epoch: 186 | Loss: 0.0012645035749301314 | Test loss: 0.013801801018416882\n",
      "Epoch: 187 | Loss: 0.010256479494273663 | Test loss: 0.00033081771107390523\n",
      "Epoch: 188 | Loss: 0.0012645035749301314 | Test loss: 0.013801801018416882\n",
      "Epoch: 189 | Loss: 0.010256479494273663 | Test loss: 0.00033081771107390523\n",
      "Epoch: 190 | Loss: 0.0012645035749301314 | Test loss: 0.013801801018416882\n",
      "Epoch: 191 | Loss: 0.010256479494273663 | Test loss: 0.00033081771107390523\n",
      "Epoch: 192 | Loss: 0.0012645035749301314 | Test loss: 0.013801801018416882\n",
      "Epoch: 193 | Loss: 0.010256479494273663 | Test loss: 0.00033081771107390523\n",
      "Epoch: 194 | Loss: 0.0012645035749301314 | Test loss: 0.013801801018416882\n",
      "Epoch: 195 | Loss: 0.010256479494273663 | Test loss: 0.00033081771107390523\n",
      "Epoch: 196 | Loss: 0.0012645035749301314 | Test loss: 0.013801801018416882\n",
      "Epoch: 197 | Loss: 0.010256479494273663 | Test loss: 0.00033081771107390523\n",
      "Epoch: 198 | Loss: 0.0012645035749301314 | Test loss: 0.013801801018416882\n",
      "Epoch: 199 | Loss: 0.010256479494273663 | Test loss: 0.00033081771107390523\n"
     ]
    }
   ],
   "source": [
    "# Let's write a training loop\n",
    "torch.manual_seed(42)\n",
    "\n",
    "epochs = 200\n",
    "\n",
    "# Put data on the target device (device agnostic code for data)\n",
    "X_train=X_train.to(device)\n",
    "y_train=y_train.to(device)\n",
    "X_test= X_test.to(device)\n",
    "y_test = y_test.to(device)\n",
    "\n",
    "\n",
    "for epoch in range (epochs):\n",
    "    model_1.train()\n",
    "\n",
    "    # 1. Forward pass\n",
    "    y_pred= model_1(X_train)\n",
    "\n",
    "    # 2. Calculate the loos\n",
    "    loss = loss_fn(y_pred,y_train)\n",
    "\n",
    "    # 3. Optimizer zero grad\n",
    "    optimizer.zero_grad()\n",
    "\n",
    "    # 4. Perform backpropagation\n",
    "    loss.backward()\n",
    "\n",
    "    # 5. Optimizer step\n",
    "    optimizer.step()\n",
    "\n",
    "\n",
    "    ### Testing\n",
    "    model_1.eval()\n",
    "    with torch.inference_mode():\n",
    "        test_pred = model_1(X_test)\n",
    "\n",
    "        test_loss = loss_fn(test_pred,y_test)\n",
    "\n",
    "    # Print out what's happening\n",
    "    print(f'Epoch: {epoch} | Loss: {loss} | Test loss: {test_loss}')"
   ]
  },
  {
   "cell_type": "code",
   "execution_count": 19,
   "metadata": {},
   "outputs": [
    {
     "data": {
      "text/plain": [
       "OrderedDict([('linear_layer.weight', tensor([[0.6968]], device='cuda:0')),\n",
       "             ('linear_layer.bias', tensor([0.3025], device='cuda:0'))])"
      ]
     },
     "execution_count": 19,
     "metadata": {},
     "output_type": "execute_result"
    }
   ],
   "source": [
    "model_1.state_dict()"
   ]
  },
  {
   "cell_type": "markdown",
   "metadata": {},
   "source": [
    "### 6.4  Making and evaluating predictions"
   ]
  },
  {
   "cell_type": "code",
   "execution_count": 29,
   "metadata": {},
   "outputs": [
    {
     "data": {
      "text/plain": [
       "tensor([[0.8600],\n",
       "        [0.8739],\n",
       "        [0.8878],\n",
       "        [0.9018],\n",
       "        [0.9157],\n",
       "        [0.9296],\n",
       "        [0.9436],\n",
       "        [0.9575],\n",
       "        [0.9714],\n",
       "        [0.9854]], device='cuda:0')"
      ]
     },
     "execution_count": 29,
     "metadata": {},
     "output_type": "execute_result"
    }
   ],
   "source": [
    "# Turn model into evaluation mode\n",
    "model_1.eval()\n",
    "\n",
    "# Make predictions on the test data\n",
    "with torch.inference_mode():\n",
    "    y_preds = model_1(X_test)\n",
    "y_preds  "
   ]
  },
  {
   "cell_type": "code",
   "execution_count": 31,
   "metadata": {},
   "outputs": [
    {
     "data": {
      "image/png": "[encoded data removed]",
      "text/plain": [
       "<Figure size 1000x700 with 1 Axes>"
      ]
     },
     "metadata": {},
     "output_type": "display_data"
    }
   ],
   "source": [
    "# Check out our model predictions visually\n",
    "plot_predictions(predictions=y_preds.cpu())"
   ]
  },
  {
   "cell_type": "markdown",
   "metadata": {},
   "source": [
    "### 6.5 Saving & loading a trained model"
   ]
  },
  {
   "cell_type": "code",
   "execution_count": 35,
   "metadata": {},
   "outputs": [
    {
     "name": "stdout",
     "output_type": "stream",
     "text": [
      "Saving model to: models\\01_pytorch_workflow_model1.pth\n"
     ]
    }
   ],
   "source": [
    "# 1. Create models directory\n",
    "MODEL_PATH = Path(\"models\")\n",
    "MODEL_PATH.mkdir(parents='True',exist_ok=True)\n",
    "\n",
    "# 2. Create model save path\n",
    "MODEL_NAME = \"01_pytorch_workflow_model1.pth\"\n",
    "MODEL_SAVE_PATH = MODEL_PATH / MODEL_NAME\n",
    "\n",
    "# 3. Save the model state dict\n",
    "print(f\"Saving model to: {MODEL_SAVE_PATH}\")\n",
    "torch.save(obj=model_1.state_dict(),f=MODEL_SAVE_PATH)\n"
   ]
  },
  {
   "cell_type": "code",
   "execution_count": 36,
   "metadata": {},
   "outputs": [
    {
     "name": "stderr",
     "output_type": "stream",
     "text": [
      "C:\\Users\\Caner\\AppData\\Local\\Temp\\ipykernel_105352\\3169137261.py:7: FutureWarning: You are using `torch.load` with `weights_only=False` (the current default value), which uses the default pickle module implicitly. It is possible to construct malicious pickle data which will execute arbitrary code during unpickling (See https://github.com/pytorch/pytorch/blob/main/SECURITY.md#untrusted-models for more details). In a future release, the default value for `weights_only` will be flipped to `True`. This limits the functions that could be executed during unpickling. Arbitrary objects will no longer be allowed to be loaded via this mode unless they are explicitly allowlisted by the user via `torch.serialization.add_safe_globals`. We recommend you start setting `weights_only=True` for any use case where you don't have full control of the loaded file. Please open an issue on GitHub for any issues related to this experimental feature.\n",
      "  loaded_model_1.load_state_dict(torch.load(MODEL_SAVE_PATH))\n"
     ]
    },
    {
     "data": {
      "text/plain": [
       "LinearRegressionModelV2(\n",
       "  (linear_layer): Linear(in_features=1, out_features=1, bias=True)\n",
       ")"
      ]
     },
     "execution_count": 36,
     "metadata": {},
     "output_type": "execute_result"
    }
   ],
   "source": [
    "# Load a PyTorch model\n",
    "\n",
    "# Create a new instance of linear regression model V2\n",
    "loaded_model_1 = LinearRegressionModelV2()\n",
    "\n",
    "# Load the model state dict \n",
    "loaded_model_1.load_state_dict(torch.load(MODEL_SAVE_PATH))\n",
    "\n",
    "# Put the loaded model to the device \n",
    "loaded_model_1.to(device)"
   ]
  },
  {
   "cell_type": "code",
   "execution_count": 37,
   "metadata": {},
   "outputs": [
    {
     "data": {
      "text/plain": [
       "device(type='cuda', index=0)"
      ]
     },
     "execution_count": 37,
     "metadata": {},
     "output_type": "execute_result"
    }
   ],
   "source": [
    "next(loaded_model_1.parameters()).device"
   ]
  },
  {
   "cell_type": "code",
   "execution_count": 38,
   "metadata": {},
   "outputs": [
    {
     "data": {
      "text/plain": [
       "OrderedDict([('linear_layer.weight', tensor([[0.6968]], device='cuda:0')),\n",
       "             ('linear_layer.bias', tensor([0.3025], device='cuda:0'))])"
      ]
     },
     "execution_count": 38,
     "metadata": {},
     "output_type": "execute_result"
    }
   ],
   "source": [
    "loaded_model_1.state_dict()"
   ]
  },
  {
   "cell_type": "code",
   "execution_count": 39,
   "metadata": {},
   "outputs": [
    {
     "data": {
      "text/plain": [
       "tensor([[True],\n",
       "        [True],\n",
       "        [True],\n",
       "        [True],\n",
       "        [True],\n",
       "        [True],\n",
       "        [True],\n",
       "        [True],\n",
       "        [True],\n",
       "        [True]], device='cuda:0')"
      ]
     },
     "execution_count": 39,
     "metadata": {},
     "output_type": "execute_result"
    }
   ],
   "source": [
    "# Evaluate loaded model\n",
    "loaded_model_1.eval()\n",
    "with torch.inference_mode():\n",
    "    loaded_model_1_preds = loaded_model_1(X_test)\n",
    "\n",
    "loaded_model_1_preds== y_preds"
   ]
  },
  {
   "cell_type": "markdown",
   "metadata": {},
   "source": [
    "### Exercises & Extra=Curriculum\n",
    "\n",
    "For exercise & extra-curriculum, refer to:https://www.learnpytorch.io/01_pytorch_workflow/#extra-curriculum\n"
   ]
  }
 ],
 "metadata": {
  "kernelspec": {
   "display_name": "pytorch_101",
   "language": "python",
   "name": "python3"
  },
  "language_info": {
   "codemirror_mode": {
    "name": "ipython",
    "version": 3
   },
   "file_extension": ".py",
   "mimetype": "text/x-python",
   "name": "python",
   "nbconvert_exporter": "python",
   "pygments_lexer": "ipython3",
   "version": "3.12.4"
  }
 },
 "nbformat": 4,
 "nbformat_minor": 2
}
